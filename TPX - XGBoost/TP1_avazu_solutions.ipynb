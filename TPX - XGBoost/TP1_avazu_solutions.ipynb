{
  "nbformat": 4,
  "nbformat_minor": 0,
  "metadata": {
    "colab": {
      "name": "TP1-avazu-solutions.ipynb",
      "provenance": []
    },
    "language_info": {
      "codemirror_mode": {
        "name": "ipython",
        "version": 3
      },
      "file_extension": ".py",
      "mimetype": "text/x-python",
      "name": "python",
      "nbconvert_exporter": "python",
      "pygments_lexer": "ipython3",
      "version": "3.6.3"
    },
    "kernelspec": {
      "display_name": "Python 3",
      "language": "python",
      "name": "python3"
    }
  },
  "cells": [
    {
      "cell_type": "markdown",
      "metadata": {
        "id": "-3rW8oUMwRyd",
        "colab_type": "text"
      },
      "source": [
        "<h1><center>Practice of Large Scale Machine Learning - TP1 Avazu<center></h1>\n",
        "<h2><center>ATHENS 2018<center></h2>"
      ]
    },
    {
      "cell_type": "code",
      "metadata": {
        "id": "mCOAoM9HwRye",
        "colab_type": "code",
        "colab": {
          "base_uri": "https://localhost:8080/",
          "height": 51
        },
        "outputId": "78f17506-efff-494d-f5c2-f657ee2f1068"
      },
      "source": [
        "import sys\n",
        "from zipfile import ZipFile\n",
        "import os.path as op\n",
        "try:\n",
        "    from urllib.request import urlretrieve\n",
        "except ImportError:  # Python 2 compat\n",
        "    from urllib import urlretrieve\n",
        "    \n",
        "AVAZU_URL = \"https://bianchi.wp.imt.fr/files/2019/05/train-1000000.zip\"\n",
        "AVAZU_FILENAME = AVAZU_URL.rsplit('/', 1)[1]\n",
        "\n",
        "\n",
        "if not op.exists(AVAZU_FILENAME):\n",
        "    print('Downloading %s to %s...' % (AVAZU_URL, AVAZU_FILENAME))\n",
        "    urlretrieve(AVAZU_URL, AVAZU_FILENAME)\n",
        "    print('Extracting to %s...' % AVAZU_FILENAME)\n",
        "    ZipFile(AVAZU_FILENAME).extractall('.')"
      ],
      "execution_count": 3,
      "outputs": [
        {
          "output_type": "stream",
          "text": [
            "Downloading https://bianchi.wp.imt.fr/files/2019/05/train-1000000.zip to train-1000000.zip...\n",
            "Extracting to train-1000000.zip...\n"
          ],
          "name": "stdout"
        }
      ]
    },
    {
      "cell_type": "markdown",
      "metadata": {
        "id": "wU8giUI9wRyo",
        "colab_type": "text"
      },
      "source": [
        "<font color=\"red\">\n",
        "Effectuer les imports nécessaires (numpy, pandas, etc.) ou le faire au fil de vos besoins.\n",
        "</font>"
      ]
    },
    {
      "cell_type": "code",
      "metadata": {
        "id": "NidSqTnpwRyo",
        "colab_type": "code",
        "colab": {}
      },
      "source": [
        "import numpy as np\n",
        "import pandas as pd\n",
        "import matplotlib.pyplot as plt\n",
        "import seaborn as sns\n",
        "import datetime\n",
        "%matplotlib inline"
      ],
      "execution_count": 0,
      "outputs": []
    },
    {
      "cell_type": "markdown",
      "metadata": {
        "id": "RDR5E716wRyr",
        "colab_type": "text"
      },
      "source": [
        "# Les données\n",
        "La signification des features est fournie ici https://www.kaggle.com/c/avazu-ctr-prediction/data  \n",
        "<font color=\"red\">\n",
        "Charger les données dans une dataframe et visualiser les premières lignes.</font>"
      ]
    },
    {
      "cell_type": "code",
      "metadata": {
        "id": "4rgQ-Mftwgeo",
        "colab_type": "code",
        "colab": {}
      },
      "source": [
        "df = pd.read_csv('train-1000000')"
      ],
      "execution_count": 0,
      "outputs": []
    },
    {
      "cell_type": "code",
      "metadata": {
        "id": "eBYBjbL5wRyu",
        "colab_type": "code",
        "outputId": "e5324213-d479-447b-a5a4-3f8c8abd12d3",
        "colab": {
          "base_uri": "https://localhost:8080/",
          "height": 373
        }
      },
      "source": [
        "df.head(10)"
      ],
      "execution_count": 6,
      "outputs": [
        {
          "output_type": "execute_result",
          "data": {
            "text/html": [
              "<div>\n",
              "<style scoped>\n",
              "    .dataframe tbody tr th:only-of-type {\n",
              "        vertical-align: middle;\n",
              "    }\n",
              "\n",
              "    .dataframe tbody tr th {\n",
              "        vertical-align: top;\n",
              "    }\n",
              "\n",
              "    .dataframe thead th {\n",
              "        text-align: right;\n",
              "    }\n",
              "</style>\n",
              "<table border=\"1\" class=\"dataframe\">\n",
              "  <thead>\n",
              "    <tr style=\"text-align: right;\">\n",
              "      <th></th>\n",
              "      <th>id</th>\n",
              "      <th>click</th>\n",
              "      <th>hour</th>\n",
              "      <th>C1</th>\n",
              "      <th>banner_pos</th>\n",
              "      <th>site_id</th>\n",
              "      <th>site_domain</th>\n",
              "      <th>site_category</th>\n",
              "      <th>app_id</th>\n",
              "      <th>app_domain</th>\n",
              "      <th>app_category</th>\n",
              "      <th>device_id</th>\n",
              "      <th>device_ip</th>\n",
              "      <th>device_model</th>\n",
              "      <th>device_type</th>\n",
              "      <th>device_conn_type</th>\n",
              "      <th>C14</th>\n",
              "      <th>C15</th>\n",
              "      <th>C16</th>\n",
              "      <th>C17</th>\n",
              "      <th>C18</th>\n",
              "      <th>C19</th>\n",
              "      <th>C20</th>\n",
              "      <th>C21</th>\n",
              "    </tr>\n",
              "  </thead>\n",
              "  <tbody>\n",
              "    <tr>\n",
              "      <th>0</th>\n",
              "      <td>3.983206e+18</td>\n",
              "      <td>0</td>\n",
              "      <td>14102915</td>\n",
              "      <td>1005</td>\n",
              "      <td>1</td>\n",
              "      <td>e151e245</td>\n",
              "      <td>7e091613</td>\n",
              "      <td>f028772b</td>\n",
              "      <td>ecad2386</td>\n",
              "      <td>7801e8d9</td>\n",
              "      <td>07d7df22</td>\n",
              "      <td>a99f214a</td>\n",
              "      <td>fb6566d3</td>\n",
              "      <td>be87996b</td>\n",
              "      <td>1</td>\n",
              "      <td>2</td>\n",
              "      <td>4687</td>\n",
              "      <td>320</td>\n",
              "      <td>50</td>\n",
              "      <td>423</td>\n",
              "      <td>2</td>\n",
              "      <td>39</td>\n",
              "      <td>100148</td>\n",
              "      <td>32</td>\n",
              "    </tr>\n",
              "    <tr>\n",
              "      <th>1</th>\n",
              "      <td>7.756884e+18</td>\n",
              "      <td>0</td>\n",
              "      <td>14103007</td>\n",
              "      <td>1002</td>\n",
              "      <td>0</td>\n",
              "      <td>cb809abf</td>\n",
              "      <td>74acf31a</td>\n",
              "      <td>50e219e0</td>\n",
              "      <td>ecad2386</td>\n",
              "      <td>7801e8d9</td>\n",
              "      <td>07d7df22</td>\n",
              "      <td>9b7af851</td>\n",
              "      <td>ac5a4a77</td>\n",
              "      <td>7e6190f3</td>\n",
              "      <td>0</td>\n",
              "      <td>0</td>\n",
              "      <td>17894</td>\n",
              "      <td>320</td>\n",
              "      <td>50</td>\n",
              "      <td>2039</td>\n",
              "      <td>2</td>\n",
              "      <td>39</td>\n",
              "      <td>100077</td>\n",
              "      <td>32</td>\n",
              "    </tr>\n",
              "    <tr>\n",
              "      <th>2</th>\n",
              "      <td>6.941774e+17</td>\n",
              "      <td>0</td>\n",
              "      <td>14102711</td>\n",
              "      <td>1005</td>\n",
              "      <td>0</td>\n",
              "      <td>85f751fd</td>\n",
              "      <td>c4e18dd6</td>\n",
              "      <td>50e219e0</td>\n",
              "      <td>e9739828</td>\n",
              "      <td>df32afa9</td>\n",
              "      <td>cef3e649</td>\n",
              "      <td>a99f214a</td>\n",
              "      <td>748e298a</td>\n",
              "      <td>3c55fad5</td>\n",
              "      <td>1</td>\n",
              "      <td>0</td>\n",
              "      <td>22684</td>\n",
              "      <td>320</td>\n",
              "      <td>50</td>\n",
              "      <td>2619</td>\n",
              "      <td>1</td>\n",
              "      <td>163</td>\n",
              "      <td>100055</td>\n",
              "      <td>71</td>\n",
              "    </tr>\n",
              "    <tr>\n",
              "      <th>3</th>\n",
              "      <td>2.664154e+18</td>\n",
              "      <td>1</td>\n",
              "      <td>14102903</td>\n",
              "      <td>1005</td>\n",
              "      <td>0</td>\n",
              "      <td>85f751fd</td>\n",
              "      <td>c4e18dd6</td>\n",
              "      <td>50e219e0</td>\n",
              "      <td>a5184c22</td>\n",
              "      <td>b8d325c3</td>\n",
              "      <td>0f2161f8</td>\n",
              "      <td>a99f214a</td>\n",
              "      <td>a50da3d4</td>\n",
              "      <td>c5cc73c1</td>\n",
              "      <td>1</td>\n",
              "      <td>0</td>\n",
              "      <td>23222</td>\n",
              "      <td>320</td>\n",
              "      <td>50</td>\n",
              "      <td>2676</td>\n",
              "      <td>0</td>\n",
              "      <td>35</td>\n",
              "      <td>100176</td>\n",
              "      <td>221</td>\n",
              "    </tr>\n",
              "    <tr>\n",
              "      <th>4</th>\n",
              "      <td>1.480510e+19</td>\n",
              "      <td>0</td>\n",
              "      <td>14102902</td>\n",
              "      <td>1005</td>\n",
              "      <td>1</td>\n",
              "      <td>791b5571</td>\n",
              "      <td>fd13bc73</td>\n",
              "      <td>f028772b</td>\n",
              "      <td>ecad2386</td>\n",
              "      <td>7801e8d9</td>\n",
              "      <td>07d7df22</td>\n",
              "      <td>a99f214a</td>\n",
              "      <td>d5f88679</td>\n",
              "      <td>a5bce124</td>\n",
              "      <td>1</td>\n",
              "      <td>0</td>\n",
              "      <td>8330</td>\n",
              "      <td>320</td>\n",
              "      <td>50</td>\n",
              "      <td>761</td>\n",
              "      <td>3</td>\n",
              "      <td>175</td>\n",
              "      <td>100081</td>\n",
              "      <td>23</td>\n",
              "    </tr>\n",
              "    <tr>\n",
              "      <th>5</th>\n",
              "      <td>1.591127e+19</td>\n",
              "      <td>0</td>\n",
              "      <td>14102700</td>\n",
              "      <td>1005</td>\n",
              "      <td>0</td>\n",
              "      <td>85f751fd</td>\n",
              "      <td>c4e18dd6</td>\n",
              "      <td>50e219e0</td>\n",
              "      <td>febd1138</td>\n",
              "      <td>82e27996</td>\n",
              "      <td>0f2161f8</td>\n",
              "      <td>a99f214a</td>\n",
              "      <td>189590f9</td>\n",
              "      <td>2ea4f8ba</td>\n",
              "      <td>1</td>\n",
              "      <td>0</td>\n",
              "      <td>21611</td>\n",
              "      <td>320</td>\n",
              "      <td>50</td>\n",
              "      <td>2480</td>\n",
              "      <td>3</td>\n",
              "      <td>297</td>\n",
              "      <td>100111</td>\n",
              "      <td>61</td>\n",
              "    </tr>\n",
              "    <tr>\n",
              "      <th>6</th>\n",
              "      <td>4.149473e+18</td>\n",
              "      <td>0</td>\n",
              "      <td>14102408</td>\n",
              "      <td>1010</td>\n",
              "      <td>1</td>\n",
              "      <td>85f751fd</td>\n",
              "      <td>c4e18dd6</td>\n",
              "      <td>50e219e0</td>\n",
              "      <td>03a08c3f</td>\n",
              "      <td>7801e8d9</td>\n",
              "      <td>0f2161f8</td>\n",
              "      <td>192d98b0</td>\n",
              "      <td>74169322</td>\n",
              "      <td>c144e605</td>\n",
              "      <td>4</td>\n",
              "      <td>3</td>\n",
              "      <td>15704</td>\n",
              "      <td>320</td>\n",
              "      <td>50</td>\n",
              "      <td>1722</td>\n",
              "      <td>0</td>\n",
              "      <td>35</td>\n",
              "      <td>100084</td>\n",
              "      <td>79</td>\n",
              "    </tr>\n",
              "    <tr>\n",
              "      <th>7</th>\n",
              "      <td>1.085379e+19</td>\n",
              "      <td>0</td>\n",
              "      <td>14102904</td>\n",
              "      <td>1005</td>\n",
              "      <td>0</td>\n",
              "      <td>85f751fd</td>\n",
              "      <td>c4e18dd6</td>\n",
              "      <td>50e219e0</td>\n",
              "      <td>a5184c22</td>\n",
              "      <td>b8d325c3</td>\n",
              "      <td>0f2161f8</td>\n",
              "      <td>a99f214a</td>\n",
              "      <td>342b6e9e</td>\n",
              "      <td>a0f5f879</td>\n",
              "      <td>1</td>\n",
              "      <td>0</td>\n",
              "      <td>23224</td>\n",
              "      <td>320</td>\n",
              "      <td>50</td>\n",
              "      <td>2676</td>\n",
              "      <td>0</td>\n",
              "      <td>35</td>\n",
              "      <td>100176</td>\n",
              "      <td>221</td>\n",
              "    </tr>\n",
              "    <tr>\n",
              "      <th>8</th>\n",
              "      <td>2.629918e+18</td>\n",
              "      <td>0</td>\n",
              "      <td>14102513</td>\n",
              "      <td>1010</td>\n",
              "      <td>1</td>\n",
              "      <td>85f751fd</td>\n",
              "      <td>c4e18dd6</td>\n",
              "      <td>50e219e0</td>\n",
              "      <td>8486dd4e</td>\n",
              "      <td>7801e8d9</td>\n",
              "      <td>0f2161f8</td>\n",
              "      <td>50dc7a55</td>\n",
              "      <td>2064d2cc</td>\n",
              "      <td>d6cd23ab</td>\n",
              "      <td>4</td>\n",
              "      <td>0</td>\n",
              "      <td>17875</td>\n",
              "      <td>320</td>\n",
              "      <td>50</td>\n",
              "      <td>2036</td>\n",
              "      <td>3</td>\n",
              "      <td>47</td>\n",
              "      <td>-1</td>\n",
              "      <td>156</td>\n",
              "    </tr>\n",
              "    <tr>\n",
              "      <th>9</th>\n",
              "      <td>1.419062e+19</td>\n",
              "      <td>0</td>\n",
              "      <td>14102600</td>\n",
              "      <td>1010</td>\n",
              "      <td>1</td>\n",
              "      <td>85f751fd</td>\n",
              "      <td>c4e18dd6</td>\n",
              "      <td>50e219e0</td>\n",
              "      <td>04f2be5f</td>\n",
              "      <td>7801e8d9</td>\n",
              "      <td>0f2161f8</td>\n",
              "      <td>feb99a64</td>\n",
              "      <td>72c47474</td>\n",
              "      <td>a0f5f879</td>\n",
              "      <td>4</td>\n",
              "      <td>3</td>\n",
              "      <td>22552</td>\n",
              "      <td>320</td>\n",
              "      <td>50</td>\n",
              "      <td>2602</td>\n",
              "      <td>0</td>\n",
              "      <td>163</td>\n",
              "      <td>100084</td>\n",
              "      <td>182</td>\n",
              "    </tr>\n",
              "  </tbody>\n",
              "</table>\n",
              "</div>"
            ],
            "text/plain": [
              "             id  click      hour    C1  banner_pos  ...   C17 C18  C19     C20  C21\n",
              "0  3.983206e+18      0  14102915  1005           1  ...   423   2   39  100148   32\n",
              "1  7.756884e+18      0  14103007  1002           0  ...  2039   2   39  100077   32\n",
              "2  6.941774e+17      0  14102711  1005           0  ...  2619   1  163  100055   71\n",
              "3  2.664154e+18      1  14102903  1005           0  ...  2676   0   35  100176  221\n",
              "4  1.480510e+19      0  14102902  1005           1  ...   761   3  175  100081   23\n",
              "5  1.591127e+19      0  14102700  1005           0  ...  2480   3  297  100111   61\n",
              "6  4.149473e+18      0  14102408  1010           1  ...  1722   0   35  100084   79\n",
              "7  1.085379e+19      0  14102904  1005           0  ...  2676   0   35  100176  221\n",
              "8  2.629918e+18      0  14102513  1010           1  ...  2036   3   47      -1  156\n",
              "9  1.419062e+19      0  14102600  1010           1  ...  2602   0  163  100084  182\n",
              "\n",
              "[10 rows x 24 columns]"
            ]
          },
          "metadata": {
            "tags": []
          },
          "execution_count": 6
        }
      ]
    },
    {
      "cell_type": "markdown",
      "metadata": {
        "id": "FsZ0GYL3wRyy",
        "colab_type": "text"
      },
      "source": [
        "<font color=\"red\">\n",
        "Quelle est la fréquence des 'clicks' dans la base de donnée ? </font>"
      ]
    },
    {
      "cell_type": "code",
      "metadata": {
        "id": "bZSl-jigwRyz",
        "colab_type": "code",
        "outputId": "94ab513c-b117-446b-8da5-4a55bc557c20",
        "colab": {
          "base_uri": "https://localhost:8080/",
          "height": 34
        }
      },
      "source": [
        "df['click'].mean()"
      ],
      "execution_count": 7,
      "outputs": [
        {
          "output_type": "execute_result",
          "data": {
            "text/plain": [
              "0.169971"
            ]
          },
          "metadata": {
            "tags": []
          },
          "execution_count": 7
        }
      ]
    },
    {
      "cell_type": "markdown",
      "metadata": {
        "id": "jBOlyhIUwRy2",
        "colab_type": "text"
      },
      "source": [
        "On est donc en présence d'un jeu de données déséquilibré. La classe des 'clics' constitue moins d'un cinquième de toute la base de données. On sait d'emblée qu'un classifieur prédisant toujours 'non-clic' aura d'assez bonnes performances en termes de taux d'erreur (de l'ordre de 0.17). La courbe ROC ou le lift seront de meilleures métriques de performance.\n",
        "<p>\n",
        "<font color=\"red\">\n",
        "Quelles sont les features catégorielles ? Avec la méthode df.nunique(), calculer combien de valeurs distinctes elles prennent chacune</font>"
      ]
    },
    {
      "cell_type": "code",
      "metadata": {
        "id": "AP9WWsoRwRy2",
        "colab_type": "code",
        "outputId": "bee3051a-dcbc-4746-e691-daefe008434c",
        "colab": {
          "base_uri": "https://localhost:8080/",
          "height": 451
        }
      },
      "source": [
        "df.nunique()"
      ],
      "execution_count": 8,
      "outputs": [
        {
          "output_type": "execute_result",
          "data": {
            "text/plain": [
              "id                  1000000\n",
              "click                     2\n",
              "hour                    240\n",
              "C1                        7\n",
              "banner_pos                7\n",
              "site_id                2651\n",
              "site_domain            2871\n",
              "site_category            22\n",
              "app_id                 3157\n",
              "app_domain              198\n",
              "app_category             26\n",
              "device_id            150501\n",
              "device_ip            555248\n",
              "device_model           5168\n",
              "device_type               5\n",
              "device_conn_type          4\n",
              "C14                    2243\n",
              "C15                       8\n",
              "C16                       9\n",
              "C17                     420\n",
              "C18                       4\n",
              "C19                      66\n",
              "C20                     163\n",
              "C21                      60\n",
              "dtype: int64"
            ]
          },
          "metadata": {
            "tags": []
          },
          "execution_count": 8
        }
      ]
    },
    {
      "cell_type": "markdown",
      "metadata": {
        "id": "V9tKag7swRy6",
        "colab_type": "text"
      },
      "source": [
        "<font color=\"red\">\n",
        "    Si on devait procéder à un encodage en dummies de toutes les variables catégorielles, quelle serait la dimension du modèle ?\n",
        "    <br><br>\n",
        "    In other words: what would be the dimension of our big feature vector encoded with dummies. \n",
        "    <br>\n",
        "    Hint: if you have just 3 categories A, B and C, you would have a vector of dimension 3 (or 2 if you use drop_first=True).\n",
        "</font>"
      ]
    },
    {
      "cell_type": "code",
      "metadata": {
        "id": "u133SHrTwRy7",
        "colab_type": "code",
        "outputId": "cfafb5fe-f732-4ec1-b2cd-a4dc79477314",
        "colab": {
          "base_uri": "https://localhost:8080/",
          "height": 34
        }
      },
      "source": [
        "df.nunique().values[2:].sum() # We just sum the number of unique values for each variable"
      ],
      "execution_count": 9,
      "outputs": [
        {
          "output_type": "execute_result",
          "data": {
            "text/plain": [
              "723078"
            ]
          },
          "metadata": {
            "tags": []
          },
          "execution_count": 9
        }
      ]
    },
    {
      "cell_type": "markdown",
      "metadata": {
        "id": "nBVeYR-ewRy-",
        "colab_type": "text"
      },
      "source": [
        "<font color=\"red\">\n",
        "Analyser la colonne 'hour' : quel est le format utilisé ? Comment peut on transformer/simplifier cette feature ?</font>"
      ]
    },
    {
      "cell_type": "code",
      "metadata": {
        "id": "Es2HKhyDwRy_",
        "colab_type": "code",
        "outputId": "8fd735e1-66af-4f60-85aa-47cf5571a1c1",
        "colab": {
          "base_uri": "https://localhost:8080/",
          "height": 225
        }
      },
      "source": [
        "print(df['hour'].head())\n",
        "print(df['hour'].tail())\n",
        "# We notice that:\n",
        "# - the first 2 digits correspond to the year (e.g. \"14\" corresponds to 2014). Always constant\n",
        "# - the next 2 digits correspond to the month (e.g. \"10\" corresponds to October). Always constant\n",
        "# - the next 2 digits correspond to the day (e.g. \"29\" corresponds to 29th)\n",
        "# - the last 2 digits correspond to the hour (e.g. \"15\" corresponds to 3pm)"
      ],
      "execution_count": 10,
      "outputs": [
        {
          "output_type": "stream",
          "text": [
            "0    14102915\n",
            "1    14103007\n",
            "2    14102711\n",
            "3    14102903\n",
            "4    14102902\n",
            "Name: hour, dtype: int64\n",
            "999995    14102602\n",
            "999996    14102101\n",
            "999997    14102318\n",
            "999998    14102908\n",
            "999999    14102600\n",
            "Name: hour, dtype: int64\n"
          ],
          "name": "stdout"
        }
      ]
    },
    {
      "cell_type": "markdown",
      "metadata": {
        "id": "yhZ_xDwOwRzC",
        "colab_type": "text"
      },
      "source": [
        "<font color=\"red\">\n",
        "Tester le script suivant.</font>"
      ]
    },
    {
      "cell_type": "code",
      "metadata": {
        "id": "PwbdmCIhwRzD",
        "colab_type": "code",
        "outputId": "81a1ce23-8a92-49ed-cc9c-6b77d939875a",
        "colab": {
          "base_uri": "https://localhost:8080/",
          "height": 34
        }
      },
      "source": [
        "import datetime\n",
        "def datesplit(originalDate):\n",
        "    originalDate = str(originalDate)\n",
        "    \n",
        "    year = int(\"20\" + originalDate[0:2])\n",
        "    month = int(originalDate[2:4])\n",
        "    day = int(originalDate[4:6])\n",
        "    hour = int(originalDate[6:8])\n",
        "    \n",
        "    return datetime.datetime(year, month, day, hour)\n",
        "\n",
        "# Exemple :\n",
        "datesplit(14102915).weekday(), datesplit(14102915).hour"
      ],
      "execution_count": 11,
      "outputs": [
        {
          "output_type": "execute_result",
          "data": {
            "text/plain": [
              "(2, 15)"
            ]
          },
          "metadata": {
            "tags": []
          },
          "execution_count": 11
        }
      ]
    },
    {
      "cell_type": "markdown",
      "metadata": {
        "id": "ihjmDKk1wRzH",
        "colab_type": "text"
      },
      "source": [
        "<font color=\"red\">\n",
        "Avec la méthode \"apply\", créer une colonne 'weekday' pour le jour de la semaine, et remplacer la colonne 'hour' par l'heure.\n",
        "HELP NEEDED: code a trou avec fonction locale lambda\n",
        "</font>"
      ]
    },
    {
      "cell_type": "code",
      "metadata": {
        "id": "rREj1WIOwRzH",
        "colab_type": "code",
        "colab": {}
      },
      "source": [
        "df['weekday'] = df['hour'].apply(lambda x:datesplit(x).weekday())\n",
        "df['hour'] = df['hour'].apply(lambda x:datesplit(x).hour)"
      ],
      "execution_count": 0,
      "outputs": []
    },
    {
      "cell_type": "markdown",
      "metadata": {
        "id": "0Wgz_FTEwRzK",
        "colab_type": "text"
      },
      "source": [
        "<font color=\"red\">\n",
        "Avec la méthode \"groupby\", visualiser l'influence de l'heure et du jour sur les clicks (on pourra tracer la courbe clic en fonction de l'heure).</font>"
      ]
    },
    {
      "cell_type": "code",
      "metadata": {
        "id": "GJ4LyfHnwRzL",
        "colab_type": "code",
        "outputId": "610bf475-a0d9-41f5-ed49-0e1143f8177a",
        "colab": {
          "base_uri": "https://localhost:8080/",
          "height": 173
        }
      },
      "source": [
        "df.groupby('weekday').mean()['click']"
      ],
      "execution_count": 13,
      "outputs": [
        {
          "output_type": "execute_result",
          "data": {
            "text/plain": [
              "weekday\n",
              "0    0.183143\n",
              "1    0.161577\n",
              "2    0.158675\n",
              "3    0.173795\n",
              "4    0.173392\n",
              "5    0.183995\n",
              "6    0.183105\n",
              "Name: click, dtype: float64"
            ]
          },
          "metadata": {
            "tags": []
          },
          "execution_count": 13
        }
      ]
    },
    {
      "cell_type": "code",
      "metadata": {
        "scrolled": true,
        "id": "KtB42cnEwRzQ",
        "colab_type": "code",
        "outputId": "485f2f36-ae83-43a0-8a19-9c02b84473d2",
        "colab": {
          "base_uri": "https://localhost:8080/",
          "height": 298
        }
      },
      "source": [
        "df.groupby('weekday').mean()['click'].plot()"
      ],
      "execution_count": 14,
      "outputs": [
        {
          "output_type": "execute_result",
          "data": {
            "text/plain": [
              "<matplotlib.axes._subplots.AxesSubplot at 0x7f9257225f60>"
            ]
          },
          "metadata": {
            "tags": []
          },
          "execution_count": 14
        },
        {
          "output_type": "display_data",
          "data": {
            "image/png": "[encoded data removed]",
            "text/plain": [
              "<Figure size 432x288 with 1 Axes>"
            ]
          },
          "metadata": {
            "tags": []
          }
        }
      ]
    },
    {
      "cell_type": "code",
      "metadata": {
        "id": "Q61lMqj0wRzX",
        "colab_type": "code",
        "outputId": "85bdd566-17d2-4d77-df84-9aafeae68cc0",
        "colab": {
          "base_uri": "https://localhost:8080/",
          "height": 301
        }
      },
      "source": [
        "df.groupby('hour').mean()['click'].plot()"
      ],
      "execution_count": 0,
      "outputs": [
        {
          "output_type": "execute_result",
          "data": {
            "text/plain": [
              "<matplotlib.axes._subplots.AxesSubplot at 0x7f3162cc9f98>"
            ]
          },
          "metadata": {
            "tags": []
          },
          "execution_count": 17
        },
        {
          "output_type": "display_data",
          "data": {
            "image/png": "[encoded data removed]",
            "text/plain": [
              "<Figure size 432x288 with 1 Axes>"
            ]
          },
          "metadata": {
            "tags": []
          }
        }
      ]
    },
    {
      "cell_type": "markdown",
      "metadata": {
        "id": "Xnbbtfi7wRzb",
        "colab_type": "text"
      },
      "source": [
        "### Premier travail sur un modèle restreint\n",
        "Commencer par comprendre les features ayant peu de modalités : \n",
        "'hour', 'weekday', 'C1', 'banner_pos', 'site_category', 'app_category', 'device_type', 'device_conn_type', 'C15', 'C16', 'C18', 'C21'.\n",
        "\n",
        "<font color=\"red\">\n",
        "    Inspecter par exemple les colonnes 'C15' (dimension de l'annonce) et 'site_category' : visualiser la moyenne des clics.\n",
        "    <br><br>\n",
        "    You can for instance apply the method \".value_counts()\" to the columns of your interest.\n",
        "    For the mean of the click, don't forget to use \"df.groupby(\"Variable_of_interest\")\" and then select the colunm for which you want the mean.\n",
        "</font>"
      ]
    },
    {
      "cell_type": "code",
      "metadata": {
        "scrolled": true,
        "id": "QugMuq92wRzc",
        "colab_type": "code",
        "outputId": "cb0c2736-c58a-4034-c04b-55e085dd1b64",
        "colab": {
          "base_uri": "https://localhost:8080/",
          "height": 190
        }
      },
      "source": [
        "df.groupby('C15').mean()['click']"
      ],
      "execution_count": 15,
      "outputs": [
        {
          "output_type": "execute_result",
          "data": {
            "text/plain": [
              "C15\n",
              "120     0.033708\n",
              "216     0.129612\n",
              "300     0.360537\n",
              "320     0.158767\n",
              "480     0.285714\n",
              "728     0.054144\n",
              "768     0.375000\n",
              "1024    0.166667\n",
              "Name: click, dtype: float64"
            ]
          },
          "metadata": {
            "tags": []
          },
          "execution_count": 15
        }
      ]
    },
    {
      "cell_type": "code",
      "metadata": {
        "scrolled": false,
        "id": "XZXxq8hmwRzl",
        "colab_type": "code",
        "outputId": "76972fdc-2461-41f1-d200-b04c3ec6bd65",
        "colab": {
          "base_uri": "https://localhost:8080/",
          "height": 433
        }
      },
      "source": [
        "df.groupby('site_category').mean()['click']\n",
        "# df.groupby('site_category')['click'].mean().sort_values(ascending=False) # column selection then mean"
      ],
      "execution_count": 0,
      "outputs": [
        {
          "output_type": "execute_result",
          "data": {
            "text/plain": [
              "site_category\n",
              "0569f928    0.053613\n",
              "28905ebd    0.208076\n",
              "335d28a8    0.089824\n",
              "3e814130    0.284245\n",
              "42a36e14    0.225806\n",
              "50e219e0    0.128597\n",
              "5378d028    0.000000\n",
              "70fb0e29    0.144737\n",
              "72722551    0.059172\n",
              "75fa27f6    0.111305\n",
              "76b2941d    0.035756\n",
              "8fd0aea4    0.015873\n",
              "9ccfa2ea    0.000000\n",
              "a818d37a    0.000000\n",
              "bcf865d9    0.000000\n",
              "c0dd3be3    0.128655\n",
              "c706e647    0.000000\n",
              "da34532e    0.000000\n",
              "dedf689d    0.530449\n",
              "e787de0e    0.000000\n",
              "f028772b    0.179719\n",
              "f66779e6    0.034564\n",
              "Name: click, dtype: float64"
            ]
          },
          "metadata": {
            "tags": []
          },
          "execution_count": 32
        }
      ]
    },
    {
      "cell_type": "markdown",
      "metadata": {
        "id": "0OL2Dw1NwRzn",
        "colab_type": "text"
      },
      "source": [
        "<font color=\"red\">\n",
        "    Certaines catégories de site ont un taux de click nul. Pourquoi ? Vérifier en affichant le count de chaque modalité.\n",
        "\n",
        "    <br><br>\n",
        "    Hint: you can use the method \"value_counts()\"\n",
        "</font>"
      ]
    },
    {
      "cell_type": "code",
      "metadata": {
        "scrolled": false,
        "id": "o-2kNE-dwRzo",
        "colab_type": "code",
        "outputId": "e1031cea-f0dd-4392-97f8-0b91b52abd65",
        "colab": {
          "base_uri": "https://localhost:8080/",
          "height": 416
        }
      },
      "source": [
        "# for counting how many example of each class you have\n",
        "# df['C15'].value_counts()\n",
        "df['site_category'].value_counts()"
      ],
      "execution_count": 0,
      "outputs": [
        {
          "output_type": "execute_result",
          "data": {
            "text/plain": [
              "50e219e0    408921\n",
              "f028772b    313339\n",
              "28905ebd    182020\n",
              "3e814130     75667\n",
              "f66779e6      6365\n",
              "75fa27f6      4007\n",
              "335d28a8      3351\n",
              "76b2941d      2573\n",
              "c0dd3be3      1026\n",
              "72722551       676\n",
              "dedf689d       624\n",
              "70fb0e29       608\n",
              "0569f928       429\n",
              "8fd0aea4       189\n",
              "a818d37a        81\n",
              "42a36e14        62\n",
              "e787de0e        28\n",
              "bcf865d9        16\n",
              "5378d028        11\n",
              "9ccfa2ea         5\n",
              "c706e647         1\n",
              "da34532e         1\n",
              "Name: site_category, dtype: int64"
            ]
          },
          "metadata": {
            "tags": []
          },
          "execution_count": 33
        }
      ]
    },
    {
      "cell_type": "markdown",
      "metadata": {
        "id": "GC5dl9slwRzt",
        "colab_type": "text"
      },
      "source": [
        "Il est pratique visualiser les deux colonnes conjointement :"
      ]
    },
    {
      "cell_type": "code",
      "metadata": {
        "id": "uFmjWG_iwRzu",
        "colab_type": "code",
        "outputId": "3295ce15-a686-4f37-8510-18bd421355d0",
        "colab": {
          "base_uri": "https://localhost:8080/",
          "height": 292
        }
      },
      "source": [
        "col = 'C1'\n",
        "a = pd.DataFrame([df.groupby(col).mean()['click'], df.groupby(col).count()['click']]).transpose()\n",
        "a.columns = ['mean', 'count']\n",
        "a.sort_values(by='count', ascending=False)"
      ],
      "execution_count": 16,
      "outputs": [
        {
          "output_type": "execute_result",
          "data": {
            "text/html": [
              "<div>\n",
              "<style scoped>\n",
              "    .dataframe tbody tr th:only-of-type {\n",
              "        vertical-align: middle;\n",
              "    }\n",
              "\n",
              "    .dataframe tbody tr th {\n",
              "        vertical-align: top;\n",
              "    }\n",
              "\n",
              "    .dataframe thead th {\n",
              "        text-align: right;\n",
              "    }\n",
              "</style>\n",
              "<table border=\"1\" class=\"dataframe\">\n",
              "  <thead>\n",
              "    <tr style=\"text-align: right;\">\n",
              "      <th></th>\n",
              "      <th>mean</th>\n",
              "      <th>count</th>\n",
              "    </tr>\n",
              "    <tr>\n",
              "      <th>C1</th>\n",
              "      <th></th>\n",
              "      <th></th>\n",
              "    </tr>\n",
              "  </thead>\n",
              "  <tbody>\n",
              "    <tr>\n",
              "      <th>1005</th>\n",
              "      <td>0.169474</td>\n",
              "      <td>918606.0</td>\n",
              "    </tr>\n",
              "    <tr>\n",
              "      <th>1002</th>\n",
              "      <td>0.211157</td>\n",
              "      <td>54907.0</td>\n",
              "    </tr>\n",
              "    <tr>\n",
              "      <th>1010</th>\n",
              "      <td>0.095497</td>\n",
              "      <td>22409.0</td>\n",
              "    </tr>\n",
              "    <tr>\n",
              "      <th>1012</th>\n",
              "      <td>0.177295</td>\n",
              "      <td>2854.0</td>\n",
              "    </tr>\n",
              "    <tr>\n",
              "      <th>1007</th>\n",
              "      <td>0.035591</td>\n",
              "      <td>871.0</td>\n",
              "    </tr>\n",
              "    <tr>\n",
              "      <th>1001</th>\n",
              "      <td>0.027027</td>\n",
              "      <td>222.0</td>\n",
              "    </tr>\n",
              "    <tr>\n",
              "      <th>1008</th>\n",
              "      <td>0.106870</td>\n",
              "      <td>131.0</td>\n",
              "    </tr>\n",
              "  </tbody>\n",
              "</table>\n",
              "</div>"
            ],
            "text/plain": [
              "          mean     count\n",
              "C1                      \n",
              "1005  0.169474  918606.0\n",
              "1002  0.211157   54907.0\n",
              "1010  0.095497   22409.0\n",
              "1012  0.177295    2854.0\n",
              "1007  0.035591     871.0\n",
              "1001  0.027027     222.0\n",
              "1008  0.106870     131.0"
            ]
          },
          "metadata": {
            "tags": []
          },
          "execution_count": 16
        }
      ]
    },
    {
      "cell_type": "markdown",
      "metadata": {
        "id": "o66IjGxAwRzx",
        "colab_type": "text"
      },
      "source": [
        "<font color=\"red\">\n",
        "Diviser le jeu de données en un train et un test set (test_size = 0.1, random_state = 100)</font>"
      ]
    },
    {
      "cell_type": "code",
      "metadata": {
        "id": "ds8iI9NuwRzy",
        "colab_type": "code",
        "colab": {}
      },
      "source": [
        "from sklearn.model_selection import train_test_split\n",
        "Xtrain, Xtest, ytrain, ytest = train_test_split(df.drop(['click'], axis=1),df['click'],test_size = 0.1,random_state = 100)"
      ],
      "execution_count": 0,
      "outputs": []
    },
    {
      "cell_type": "markdown",
      "metadata": {
        "id": "tAPlref7wRzz",
        "colab_type": "text"
      },
      "source": [
        "# Premier travail sur un nombre réduit de features\n",
        "<p>\n",
        "<font color=\"red\">\n",
        "Dans une nouvelle dataframe X1, extraire les colonnes : 'hour', 'weekday', 'C1', 'banner_pos', 'site_category', 'app_category', 'device_type', 'device_conn_type', 'C15', 'C16', 'C18', 'C21'.\n",
        "</font>"
      ]
    },
    {
      "cell_type": "code",
      "metadata": {
        "id": "dr9vW75zwRz0",
        "colab_type": "code",
        "colab": {}
      },
      "source": [
        "some_columns = ['hour', 'weekday', 'C1', 'banner_pos', 'site_category', \n",
        "                'app_category', 'device_type', 'device_conn_type', 'C15', 'C16', 'C18', 'C21']"
      ],
      "execution_count": 0,
      "outputs": []
    },
    {
      "cell_type": "markdown",
      "metadata": {
        "id": "XaqNN1-awRz2",
        "colab_type": "text"
      },
      "source": [
        "<font color=\"red\"> - Importer CategoricalEncoder de sklearn.preprocessing.  \n",
        "- Fitter le CategoricalEncoder sur les données de train restreintes aux colonnes ci-dessus.  \n",
        "- Transformer les données de train et de test en dummies.\n",
        "</font>"
      ]
    },
    {
      "cell_type": "code",
      "metadata": {
        "id": "gurngF4pwRz4",
        "colab_type": "code",
        "colab": {}
      },
      "source": [
        "# from sklearn.preprocessing import CategoricalEncoder\n",
        "# ce = CategoricalEncoder()\n",
        "# Xtrain_oh = ce.fit_transform(Xtrain[some_columns]) # fit_transform de Xtrain restreint aux colonnes sélectionnées\n",
        "# Xtest_oh = ce.transform(Xtest[some_columns])"
      ],
      "execution_count": 0,
      "outputs": []
    },
    {
      "cell_type": "code",
      "metadata": {
        "id": "pEGKBhJPwRz5",
        "colab_type": "code",
        "colab": {}
      },
      "source": [
        "from sklearn.preprocessing import OneHotEncoder\n",
        "ohe = OneHotEncoder()\n",
        "Xtrain_oh = ohe.fit_transform(Xtrain[some_columns])\n",
        "Xtest_oh = ohe.transform(Xtest[some_columns])"
      ],
      "execution_count": 0,
      "outputs": []
    },
    {
      "cell_type": "markdown",
      "metadata": {
        "id": "2zBnlGMTwRz-",
        "colab_type": "text"
      },
      "source": [
        "<font color=\"red\">\n",
        "Quel est désormais le nombre de features ?</font>"
      ]
    },
    {
      "cell_type": "code",
      "metadata": {
        "id": "z--w_TY5wRz_",
        "colab_type": "code",
        "outputId": "ecfa598e-19a2-4ef3-c890-97a4f4edebe0",
        "colab": {
          "base_uri": "https://localhost:8080/",
          "height": 51
        }
      },
      "source": [
        "print(Xtrain.shape)\n",
        "print(Xtrain_oh.shape)\n",
        "# 183 features instead of 24"
      ],
      "execution_count": 20,
      "outputs": [
        {
          "output_type": "stream",
          "text": [
            "(900000, 24)\n",
            "(900000, 183)\n"
          ],
          "name": "stdout"
        }
      ]
    },
    {
      "cell_type": "markdown",
      "metadata": {
        "id": "Alq94imrwR0D",
        "colab_type": "text"
      },
      "source": [
        "<font color=\"red\">\n",
        "Visualiser la première ligne de la matrice de design obtenue (la convertir en numpy.array avec la méthode .toarray())</font>"
      ]
    },
    {
      "cell_type": "code",
      "metadata": {
        "id": "bBhgzrzfwR0E",
        "colab_type": "code",
        "outputId": "8af24872-4b6f-419b-c9cf-a84163e9229d",
        "colab": {
          "base_uri": "https://localhost:8080/",
          "height": 207
        }
      },
      "source": [
        "Xtrain_oh.toarray()[0,:] # pb here, not same dummies"
      ],
      "execution_count": 21,
      "outputs": [
        {
          "output_type": "execute_result",
          "data": {
            "text/plain": [
              "array([0., 0., 0., 0., 0., 0., 0., 0., 0., 0., 1., 0., 0., 0., 0., 0., 0.,\n",
              "       0., 0., 0., 0., 0., 0., 0., 1., 0., 0., 0., 0., 0., 0., 0., 0., 0.,\n",
              "       0., 0., 1., 0., 0., 1., 0., 0., 0., 0., 0., 0., 0., 0., 0., 0., 1.,\n",
              "       0., 0., 0., 0., 0., 0., 0., 0., 0., 0., 0., 0., 0., 0., 0., 0., 0.,\n",
              "       0., 0., 1., 0., 0., 0., 0., 0., 0., 0., 0., 0., 0., 0., 0., 0., 0.,\n",
              "       0., 0., 0., 0., 0., 0., 0., 0., 0., 0., 0., 1., 0., 0., 0., 1., 0.,\n",
              "       0., 0., 0., 1., 0., 0., 0., 0., 0., 0., 1., 0., 0., 0., 0., 0., 0.,\n",
              "       1., 0., 0., 0., 0., 0., 0., 0., 0., 0., 0., 0., 0., 0., 0., 0., 0.,\n",
              "       0., 0., 0., 0., 0., 0., 0., 0., 0., 1., 0., 0., 0., 0., 0., 0., 0.,\n",
              "       0., 0., 0., 0., 0., 0., 0., 0., 0., 0., 0., 0., 0., 0., 0., 0., 0.,\n",
              "       0., 0., 0., 0., 0., 0., 0., 0., 0., 0., 0., 0., 0.])"
            ]
          },
          "metadata": {
            "tags": []
          },
          "execution_count": 21
        }
      ]
    },
    {
      "cell_type": "markdown",
      "metadata": {
        "collapsed": true,
        "id": "wf7taanKwR0K",
        "colab_type": "text"
      },
      "source": [
        "<font color=\"red\">\n",
        "Fitter un modèle de régression logistique aux données d'apprentissage.\n",
        "<br>\n",
        "Give a value to C\n",
        "</font>"
      ]
    },
    {
      "cell_type": "code",
      "metadata": {
        "id": "QBTuxFMPwR0L",
        "colab_type": "code",
        "outputId": "fb87311e-dd3c-4ee0-a03d-208ec7ce0cbb",
        "colab": {
          "base_uri": "https://localhost:8080/",
          "height": 158
        }
      },
      "source": [
        "from sklearn.linear_model import LogisticRegression\n",
        "lr = LogisticRegression(C=1.0)\n",
        "lr.fit(Xtrain_oh, ytrain)"
      ],
      "execution_count": 22,
      "outputs": [
        {
          "output_type": "stream",
          "text": [
            "/usr/local/lib/python3.6/dist-packages/sklearn/linear_model/logistic.py:432: FutureWarning: Default solver will be changed to 'lbfgs' in 0.22. Specify a solver to silence this warning.\n",
            "  FutureWarning)\n"
          ],
          "name": "stderr"
        },
        {
          "output_type": "execute_result",
          "data": {
            "text/plain": [
              "LogisticRegression(C=1.0, class_weight=None, dual=False, fit_intercept=True,\n",
              "                   intercept_scaling=1, l1_ratio=None, max_iter=100,\n",
              "                   multi_class='warn', n_jobs=None, penalty='l2',\n",
              "                   random_state=None, solver='warn', tol=0.0001, verbose=0,\n",
              "                   warm_start=False)"
            ]
          },
          "metadata": {
            "tags": []
          },
          "execution_count": 22
        }
      ]
    },
    {
      "cell_type": "markdown",
      "metadata": {
        "id": "RMdLGBVJwR0P",
        "colab_type": "text"
      },
      "source": [
        "<font color=\"red\">\n",
        "Avec predict et predict_proba, afficher les décisions dures et les décisions douces obtenues sur les données de test.\n",
        "<br>\n",
        "Soft decision is nothing but the probability of predicting 1\n",
        "</font>"
      ]
    },
    {
      "cell_type": "code",
      "metadata": {
        "id": "ynJ75u8ywR0Q",
        "colab_type": "code",
        "colab": {}
      },
      "source": [
        "hard = lr.predict(Xtest_oh)\n",
        "soft = lr.predict_proba(Xtest_oh)[:,1]"
      ],
      "execution_count": 0,
      "outputs": []
    },
    {
      "cell_type": "markdown",
      "metadata": {
        "id": "JL2tkH-QwR0V",
        "colab_type": "text"
      },
      "source": [
        "<font color=\"red\">\n",
        "    Evaluer la probabilité d'erreur et commenter.\n",
        "    <br>\n",
        "    Use the '.predict' method of your model and get the error using the 'accuracy_score' function of sklearn.metrics\n",
        "</font>"
      ]
    },
    {
      "cell_type": "code",
      "metadata": {
        "id": "wkd9k3ZlwR0W",
        "colab_type": "code",
        "outputId": "fc736102-26ad-4152-88c9-bb113ae3076d",
        "colab": {
          "base_uri": "https://localhost:8080/",
          "height": 34
        }
      },
      "source": [
        "from sklearn.metrics import accuracy_score\n",
        "ypred = lr.predict(Xtest_oh)\n",
        "1 - accuracy_score(ytest, ypred)"
      ],
      "execution_count": 24,
      "outputs": [
        {
          "output_type": "execute_result",
          "data": {
            "text/plain": [
              "0.16957"
            ]
          },
          "metadata": {
            "tags": []
          },
          "execution_count": 24
        }
      ]
    },
    {
      "cell_type": "markdown",
      "metadata": {
        "id": "Y7EhY4x0wR0Z",
        "colab_type": "text"
      },
      "source": [
        "<font color=\"red\">\n",
        "Afficher la courbe ROC et l'aire sous la courbe ROC.</font>"
      ]
    },
    {
      "cell_type": "code",
      "metadata": {
        "id": "KBKXLFRUwR0Z",
        "colab_type": "code",
        "outputId": "0a070593-dbf6-4f7a-c9fb-508af1e73da1",
        "colab": {
          "base_uri": "https://localhost:8080/",
          "height": 284
        }
      },
      "source": [
        "from sklearn.metrics import roc_curve\n",
        "pfa, power, _ = roc_curve(ytest, soft)\n",
        "plt.plot(pfa, power)\n",
        "plt.grid()\n",
        "plt.plot([0, 1], [0, 1], 'r--')\n",
        "plt.xlabel('False Positive Rate', fontsize=16);\n",
        "plt.ylabel('True Positive Rate', fontsize=16);"
      ],
      "execution_count": 25,
      "outputs": [
        {
          "output_type": "display_data",
          "data": {
            "image/png": "[encoded data removed]",
            "text/plain": [
              "<Figure size 432x288 with 1 Axes>"
            ]
          },
          "metadata": {
            "tags": []
          }
        }
      ]
    },
    {
      "cell_type": "code",
      "metadata": {
        "id": "_WiupKCowR0c",
        "colab_type": "code",
        "outputId": "35098aa9-b029-4661-9330-fbc4737894be",
        "colab": {
          "base_uri": "https://localhost:8080/",
          "height": 34
        }
      },
      "source": [
        "from sklearn.metrics import roc_auc_score, log_loss\n",
        "log_loss(ytest, soft), roc_auc_score(ytest, soft)"
      ],
      "execution_count": 26,
      "outputs": [
        {
          "output_type": "execute_result",
          "data": {
            "text/plain": [
              "(0.42512042343317613, 0.6762982820621418)"
            ]
          },
          "metadata": {
            "tags": []
          },
          "execution_count": 26
        }
      ]
    },
    {
      "cell_type": "markdown",
      "metadata": {
        "id": "Jq2gjnb6wR0h",
        "colab_type": "text"
      },
      "source": [
        "<font color=\"red\">\n",
        "Importer la fonction plot_lift de utils.py, et afficher la courbe de lift.  \n",
        "Quel est le lift du premier quart de la population identifié par le test ?</font>"
      ]
    },
    {
      "cell_type": "code",
      "metadata": {
        "id": "i1mYK59w2hQI",
        "colab_type": "code",
        "colab": {}
      },
      "source": [
        "def plotlift(y_true,soft_pred):\n",
        "    df = pd.DataFrame(np.array([y_true,soft_pred]).T,columns=['true','soft'])\n",
        "    df.sort_values(by='soft',ascending=False,inplace=True)\n",
        "    lift = pd.concat([df.groupby('soft').count(),df.groupby('soft').sum()],axis=1)\n",
        "    lift.sort_index(ascending=False,inplace=True)\n",
        "    lift.columns = ['strate size','positive']\n",
        "    lift['negative'] = lift['strate size'] - lift['positive']\n",
        "    n_positive = df['true'].sum()\n",
        "    n_negative = df['true'].count()-n_positive\n",
        "    lift.index.name = 'threshold'\n",
        "    lift['Group size'] = lift['strate size'].cumsum()\n",
        "    lift['Group hit probability'] = lift['positive'].cumsum() / lift['Group size']\n",
        "    lft = lift['Group hit probability'].values / (n_positive /(n_positive+n_negative))\n",
        "    gr = lift['Group size'].values / len(y_true)\n",
        "    plt.plot(gr,lft)\n",
        "    mx = np.max(lft * (gr >= 0.1))\n",
        "    plt.xlim((0.1, 1))\n",
        "    plt.ylim((0,1.3*mx))\n",
        "    plt.grid()\n",
        "    return "
      ],
      "execution_count": 0,
      "outputs": []
    },
    {
      "cell_type": "code",
      "metadata": {
        "id": "SQweEfhgwR0i",
        "colab_type": "code",
        "colab": {}
      },
      "source": [
        "plotlift(ytest, soft)\n",
        "plt.axvline(x=0.2, linestyle='--', color='r')\n",
        "plt.plot()"
      ],
      "execution_count": 0,
      "outputs": []
    },
    {
      "cell_type": "markdown",
      "metadata": {
        "id": "OUvaaxsTwR0n",
        "colab_type": "text"
      },
      "source": [
        "On obtient un lift égal à un peu moins de deux pour environ 20% de la population (~1.75). C'est à dire qu'on a identifié un segment de la population pour lequel la probabilité de clic est (environ) deux fois supérieure à la population globale."
      ]
    },
    {
      "cell_type": "markdown",
      "metadata": {
        "id": "PVY3oBy8wR0o",
        "colab_type": "text"
      },
      "source": [
        "# Modèle complet\n",
        "On considère l'exemple de la colonne 'site_id'\n",
        "<br>\n",
        "<font color=\"red\">\n",
        "- Calculer pour chaque modalité, le nombre d'occurrence dans la base de données et la moyenne des clics pour cette modalité.  \n",
        "- Avec sns.jointplot, représenter l'ensemble des points (count,mean) de chaque modalité.</font>\n"
      ]
    },
    {
      "cell_type": "code",
      "metadata": {
        "id": "5q9UHx1LwR0p",
        "colab_type": "code",
        "colab": {}
      },
      "source": [
        "import seaborn as sns"
      ],
      "execution_count": 0,
      "outputs": []
    },
    {
      "cell_type": "code",
      "metadata": {
        "id": "drqNtotKwR0y",
        "colab_type": "code",
        "outputId": "34083086-e723-4305-dc5e-7a8c502bb2e1",
        "colab": {
          "base_uri": "https://localhost:8080/",
          "height": 865
        }
      },
      "source": [
        "col = 'site_id'\n",
        "a = pd.DataFrame([df.groupby(col).mean()['click'], df.groupby(col).count()['click']]).transpose()\n",
        "a.columns = ['mean', 'n_val']\n",
        "sns.jointplot(a['n_val'], a['mean'], alpha=0.25);\n",
        "thres = 10000\n",
        "sns.jointplot(a[a['n_val']<thres]['n_val'],a[a['n_val']<thres]['mean'],alpha=0.25);"
      ],
      "execution_count": 34,
      "outputs": [
        {
          "output_type": "display_data",
          "data": {
            "image/png": "[encoded data removed]",
            "text/plain": [
              "<Figure size 432x432 with 3 Axes>"
            ]
          },
          "metadata": {
            "tags": []
          }
        },
        {
          "output_type": "display_data",
          "data": {
            "image/png": "[encoded data removed]",
            "text/plain": [
              "<Figure size 432x432 with 3 Axes>"
            ]
          },
          "metadata": {
            "tags": []
          }
        }
      ]
    },
    {
      "cell_type": "markdown",
      "metadata": {
        "id": "2M2o8_FYwR03",
        "colab_type": "text"
      },
      "source": [
        "<font color=\"red\">A quoi sert le paramètre alpha dans les commandes ci-dessus ?</font>"
      ]
    },
    {
      "cell_type": "markdown",
      "metadata": {
        "id": "wdGyr3lswR08",
        "colab_type": "text"
      },
      "source": [
        "Plusieurs sites ayant de fortes occurrences dans la base de donnée ont des fréquences de clics très différentes de la moyenne. Il est pertinent de conserver de la colonne 'site_id' au moins les modalités ayant le plus de count.  \n",
        "\n",
        "<font color=\"red\">\n",
        "Effectuer le même travail avec la colonne 'device_id'. Que remarquez vous ? A quoi pourrait correspondre le point isolé ?</font>"
      ]
    },
    {
      "cell_type": "code",
      "metadata": {
        "id": "y_8VvyBGwR09",
        "colab_type": "code",
        "outputId": "7c9d5c09-8faa-47ce-b8de-bfffa80775f3",
        "colab": {
          "base_uri": "https://localhost:8080/",
          "height": 865
        }
      },
      "source": [
        "col = 'device_ip'\n",
        "a = pd.DataFrame([df.groupby(col).mean()['click'], df.groupby(col).count()['click']]).transpose()\n",
        "a.columns = ['mean', 'n_val']\n",
        "thres = 1000\n",
        "sns.jointplot(a['n_val'], a['mean'], alpha=0.25);\n",
        "sns.jointplot(a[a['n_val']<thres]['n_val'], a[a['n_val']<thres]['mean'], alpha=0.25);"
      ],
      "execution_count": 35,
      "outputs": [
        {
          "output_type": "display_data",
          "data": {
            "image/png": "[encoded data removed]",
            "text/plain": [
              "<Figure size 432x432 with 3 Axes>"
            ]
          },
          "metadata": {
            "tags": []
          }
        },
        {
          "output_type": "display_data",
          "data": {
            "image/png": "[encoded data removed]",
            "text/plain": [
              "<Figure size 432x432 with 3 Axes>"
            ]
          },
          "metadata": {
            "tags": []
          }
        }
      ]
    },
    {
      "cell_type": "markdown",
      "metadata": {
        "id": "RfGGxvC-wR1C",
        "colab_type": "text"
      },
      "source": [
        "<font color=\"red\">\n",
        "Dans la colonne df['device_id'], repérer la valeur V correspondant au plus grand nombre count. Use '.value_counts()'. Créer une nouvelle colonne df['user'] définie de la manière suivante :</font>\n",
        "$$\n",
        "\\text{user} = \\left\\{\\begin{array}[h]{ll} \\text{device_ip + device_model} & \\text{si device_id = V}\\\\ \\text{device_id} & \\text{sinon.}\\end{array}\\right.\n",
        "$$\n",
        "Add some help here"
      ]
    },
    {
      "cell_type": "code",
      "metadata": {
        "id": "0K2Blin6wR1C",
        "colab_type": "code",
        "colab": {}
      },
      "source": [
        "V = df['device_id'].value_counts().index[0]\n",
        "df['user'] = (df['device_ip'] + df['device_model']) * (df['device_id']==V) + df['device_id'] * (df['device_id']!=V)"
      ],
      "execution_count": 0,
      "outputs": []
    },
    {
      "cell_type": "markdown",
      "metadata": {
        "id": "BRfeERmpwR1H",
        "colab_type": "text"
      },
      "source": [
        "<font color=\"red\">Supprimer les colonnes 'device_id','device_model','device_ip'</font>"
      ]
    },
    {
      "cell_type": "code",
      "metadata": {
        "id": "YeezMrnQwR1I",
        "colab_type": "code",
        "colab": {}
      },
      "source": [
        "df.drop(columns=['device_id','device_model','device_ip'],inplace=True)"
      ],
      "execution_count": 0,
      "outputs": []
    },
    {
      "cell_type": "markdown",
      "metadata": {
        "id": "KFYom8-UwR1M",
        "colab_type": "text"
      },
      "source": [
        "<font color=\"red\">\n",
        "    On pourra visualiser de même la similarité entre site_id et site_domain, fusionner ces deux colonnes, et supprimer les anciennes colonnes 'site_id', 'site_domain'.\n",
        "    <br>\n",
        "    How do we measure similarity?\n",
        "</font>"
      ]
    },
    {
      "cell_type": "code",
      "metadata": {
        "id": "5a9H5w81wR1N",
        "colab_type": "code",
        "colab": {}
      },
      "source": [
        "df['site'] = df['site_id'] + df['site_domain']\n",
        "df.drop(columns=['site_id','site_domain'], inplace=True)"
      ],
      "execution_count": 0,
      "outputs": []
    },
    {
      "cell_type": "code",
      "metadata": {
        "id": "1qBkmmJ9wR1O",
        "colab_type": "code",
        "outputId": "c5b1a8bb-70c5-49a3-fb68-da0b627c2908",
        "colab": {
          "base_uri": "https://localhost:8080/",
          "height": 416
        }
      },
      "source": [
        "df.nunique()"
      ],
      "execution_count": 0,
      "outputs": [
        {
          "output_type": "execute_result",
          "data": {
            "text/plain": [
              "id                  1000000\n",
              "click                     2\n",
              "hour                     24\n",
              "C1                        7\n",
              "banner_pos                7\n",
              "site_category            22\n",
              "app_id                 3157\n",
              "app_domain              198\n",
              "app_category             26\n",
              "device_type               5\n",
              "device_conn_type          4\n",
              "C14                    2243\n",
              "C15                       8\n",
              "C16                       9\n",
              "C17                     420\n",
              "C18                       4\n",
              "C19                      66\n",
              "C20                     163\n",
              "C21                      60\n",
              "weekday                   7\n",
              "user                 769843\n",
              "site                   5660\n",
              "dtype: int64"
            ]
          },
          "metadata": {
            "tags": []
          },
          "execution_count": 24
        }
      ]
    },
    {
      "cell_type": "markdown",
      "metadata": {
        "id": "c_jKHPpAwR1W",
        "colab_type": "text"
      },
      "source": [
        "<font color=\"red\">\n",
        "Effectuons à nouveau le partage train/test à partir de la dataframe df ainsi modifiée \n",
        "(test_size = 0.1, random_state = 100)\n",
        "</font>"
      ]
    },
    {
      "cell_type": "code",
      "metadata": {
        "id": "Do7bp0fCwR1W",
        "colab_type": "code",
        "colab": {}
      },
      "source": [
        "Xtrain, Xtest, ytrain, ytest = train_test_split(df[df.columns[2:]], df['click'], test_size=0.1, random_state=100)"
      ],
      "execution_count": 0,
      "outputs": []
    },
    {
      "cell_type": "markdown",
      "metadata": {
        "id": "Sa3UrXUCwR1Z",
        "colab_type": "text"
      },
      "source": [
        "<font color=\"red\">\n",
        "Définir un CategoricalEncoder.  \n",
        "Fitter transformer la base de train</font>"
      ]
    },
    {
      "cell_type": "code",
      "metadata": {
        "id": "OMg_asgHwR1Z",
        "colab_type": "code",
        "colab": {}
      },
      "source": [
        "ohe = OneHotEncoder()\n",
        "Xtrain_oh = ohe.fit_transform(Xtrain)"
      ],
      "execution_count": 0,
      "outputs": []
    },
    {
      "cell_type": "markdown",
      "metadata": {
        "id": "QVWYOOIwwR1d",
        "colab_type": "text"
      },
      "source": [
        "<font color=\"red\">\n",
        "Transformer la base de test.  \n",
        "Si une erreur survient, analyser cette erreur et la résoudre en modifiant le paramètre \"handle_unknown\" du CategoricalEncoder.\n",
        "</font>"
      ]
    },
    {
      "cell_type": "code",
      "metadata": {
        "id": "sba1stEcwR1d",
        "colab_type": "code",
        "outputId": "736748ba-7a95-477a-f455-27816bf1149d",
        "colab": {
          "base_uri": "https://localhost:8080/",
          "height": 69
        }
      },
      "source": [
        "ohe.set_params(handle_unknown='ignore')"
      ],
      "execution_count": 40,
      "outputs": [
        {
          "output_type": "execute_result",
          "data": {
            "text/plain": [
              "OneHotEncoder(categorical_features=None, categories=None, drop=None,\n",
              "              dtype=<class 'numpy.float64'>, handle_unknown='ignore',\n",
              "              n_values=None, sparse=True)"
            ]
          },
          "metadata": {
            "tags": []
          },
          "execution_count": 40
        }
      ]
    },
    {
      "cell_type": "code",
      "metadata": {
        "id": "ipw8HHMEwR1h",
        "colab_type": "code",
        "colab": {}
      },
      "source": [
        "Xtest_oh = ohe.transform(Xtest)"
      ],
      "execution_count": 0,
      "outputs": []
    },
    {
      "cell_type": "markdown",
      "metadata": {
        "id": "ATFIPS63wR1k",
        "colab_type": "text"
      },
      "source": [
        "Note : CategoricalEncoder n'est disponible que dans la version de développement de sklearn (20.01)\n",
        "<font color=\"red\">\n",
        "Quel est le nombre de features ?</font>"
      ]
    },
    {
      "cell_type": "code",
      "metadata": {
        "id": "W43jHdhewR1l",
        "colab_type": "code",
        "outputId": "b2a0dc95-c02a-4682-df15-1320ab1a0122",
        "colab": {
          "base_uri": "https://localhost:8080/",
          "height": 34
        }
      },
      "source": [
        "Xtrain_oh.shape"
      ],
      "execution_count": 42,
      "outputs": [
        {
          "output_type": "execute_result",
          "data": {
            "text/plain": [
              "(900000, 11749)"
            ]
          },
          "metadata": {
            "tags": []
          },
          "execution_count": 42
        }
      ]
    },
    {
      "cell_type": "markdown",
      "metadata": {
        "id": "vjQiiSxZwR1o",
        "colab_type": "text"
      },
      "source": [
        "Le vecteur \"n_ones\" ci-dessous fournit le nombre de \"un\" dans chaque colonne de la matrice de train Xtrain_oh.\n",
        "<br>\n",
        "<font color=\"red\">\n",
        "Combien de modalités ont elles été vues plus de 100 fois ? \n",
        "</font>"
      ]
    },
    {
      "cell_type": "code",
      "metadata": {
        "id": "jhi26OIpwR1o",
        "colab_type": "code",
        "outputId": "598ce6f8-903d-44eb-cece-77c22fbac6c9",
        "colab": {
          "base_uri": "https://localhost:8080/",
          "height": 34
        }
      },
      "source": [
        "n_ones = np.array(Xtrain_oh.sum(axis=0))\n",
        "(n_ones>100).sum()"
      ],
      "execution_count": 43,
      "outputs": [
        {
          "output_type": "execute_result",
          "data": {
            "text/plain": [
              "1886"
            ]
          },
          "metadata": {
            "tags": []
          },
          "execution_count": 43
        }
      ]
    },
    {
      "cell_type": "markdown",
      "metadata": {
        "id": "EY6f-8g5wR1r",
        "colab_type": "text"
      },
      "source": [
        "La liste 'cols_to_keep' ci-dessous permet de conserver les indices des modalités vues plus de cent fois.\n",
        "<font color=\"red\">\n",
        "(Noter l'usage de la fonction enumerate)\n",
        "</font>"
      ]
    },
    {
      "cell_type": "code",
      "metadata": {
        "id": "X22ancxhwR1s",
        "colab_type": "code",
        "colab": {}
      },
      "source": [
        "useful = np.array(n_ones>100)[0]\n",
        "cols_to_keep = [i for i, b in enumerate(useful) if b]"
      ],
      "execution_count": 0,
      "outputs": []
    },
    {
      "cell_type": "markdown",
      "metadata": {
        "id": "uDAXzQEHwR1v",
        "colab_type": "text"
      },
      "source": [
        "<font color=\"red\">En se restreignant aux colonnes de 'cols_to_keep', réentrainer le modèle de régression logistique et comparer les performances en termes de log_loss et de roc_auc_score.</font>"
      ]
    },
    {
      "cell_type": "code",
      "metadata": {
        "scrolled": false,
        "id": "za4zOR1_wR1w",
        "colab_type": "code",
        "outputId": "92b6e8f7-bbb4-48e3-a78b-3d0ba334c51a",
        "colab": {
          "base_uri": "https://localhost:8080/",
          "height": 89
        }
      },
      "source": [
        "lr = LogisticRegression()\n",
        "lr.fit(Xtrain_oh[:, cols_to_keep], ytrain)\n",
        "soft = lr.predict_proba(Xtest_oh[:, cols_to_keep])[:, 1]\n",
        "log_loss(ytest, soft), roc_auc_score(ytest, soft)"
      ],
      "execution_count": 45,
      "outputs": [
        {
          "output_type": "stream",
          "text": [
            "/usr/local/lib/python3.6/dist-packages/sklearn/linear_model/logistic.py:432: FutureWarning: Default solver will be changed to 'lbfgs' in 0.22. Specify a solver to silence this warning.\n",
            "  FutureWarning)\n"
          ],
          "name": "stderr"
        },
        {
          "output_type": "execute_result",
          "data": {
            "text/plain": [
              "(0.4012404197689951, 0.7384180865660558)"
            ]
          },
          "metadata": {
            "tags": []
          },
          "execution_count": 45
        }
      ]
    },
    {
      "cell_type": "markdown",
      "metadata": {
        "id": "x9V8Ztv_wR1z",
        "colab_type": "text"
      },
      "source": [
        "# Gradient Boosting Decision Trees  \n",
        "<font color=\"red\">\n",
        "    Importer GradientBoostingClassifier de scikit learn. \n",
        "    Evaluer les performances, en utilisant une cinquantaine d'estimateurs. Pour comparer :  \n",
        "    <br>\n",
        "    - On entrainera le classifieur sur les même colonnes \"cols_to_keep\" que celles de la régression logistique\n",
        "    <br>\n",
        "    - On choisira 50 estimateurs et un learning_rate de 0.8\n",
        "    <br>\n",
        "    - Passer le paramètre verbose=True pour observer la progression de l'algorithme.\n",
        "</font>"
      ]
    },
    {
      "cell_type": "code",
      "metadata": {
        "id": "teitri_QwR10",
        "colab_type": "code",
        "colab": {}
      },
      "source": [
        "from sklearn.ensemble import GradientBoostingClassifier\n",
        "gb = GradientBoostingClassifier(verbose=True, n_estimators=50, learning_rate=0.8)"
      ],
      "execution_count": 0,
      "outputs": []
    },
    {
      "cell_type": "markdown",
      "metadata": {
        "id": "_4X75r7fwR12",
        "colab_type": "text"
      },
      "source": [
        "<font color=\"red\">\n",
        "    Fit your model.\n",
        "</font>"
      ]
    },
    {
      "cell_type": "code",
      "metadata": {
        "scrolled": false,
        "id": "6RRNfz4EwR12",
        "colab_type": "code",
        "outputId": "e768a462-c658-4e5f-9a78-7effd3af1887",
        "colab": {
          "base_uri": "https://localhost:8080/",
          "height": 485
        }
      },
      "source": [
        "%time gb.fit(Xtrain_oh[:, cols_to_keep], ytrain)"
      ],
      "execution_count": 47,
      "outputs": [
        {
          "output_type": "stream",
          "text": [
            "      Iter       Train Loss   Remaining Time \n",
            "         1           0.8743            3.64m\n",
            "         2           0.8646            3.49m\n",
            "         3           0.8583            3.43m\n",
            "         4           0.8535            3.30m\n",
            "         5           0.8503            3.22m\n",
            "         6           0.8464            3.11m\n",
            "         7           0.8441            3.06m\n",
            "         8           0.8418            3.00m\n",
            "         9           0.8404            2.94m\n",
            "        10           0.8383            2.87m\n",
            "        20           0.8282            2.17m\n",
            "        30           0.8234            1.42m\n",
            "        40           0.8190           41.78s\n",
            "        50           0.8163            0.00s\n",
            "CPU times: user 3min 26s, sys: 185 ms, total: 3min 26s\n",
            "Wall time: 3min 26s\n"
          ],
          "name": "stdout"
        },
        {
          "output_type": "execute_result",
          "data": {
            "text/plain": [
              "GradientBoostingClassifier(criterion='friedman_mse', init=None,\n",
              "                           learning_rate=0.8, loss='deviance', max_depth=3,\n",
              "                           max_features=None, max_leaf_nodes=None,\n",
              "                           min_impurity_decrease=0.0, min_impurity_split=None,\n",
              "                           min_samples_leaf=1, min_samples_split=2,\n",
              "                           min_weight_fraction_leaf=0.0, n_estimators=50,\n",
              "                           n_iter_no_change=None, presort='auto',\n",
              "                           random_state=None, subsample=1.0, tol=0.0001,\n",
              "                           validation_fraction=0.1, verbose=True,\n",
              "                           warm_start=False)"
            ]
          },
          "metadata": {
            "tags": []
          },
          "execution_count": 47
        }
      ]
    },
    {
      "cell_type": "markdown",
      "metadata": {
        "id": "xUicZ-YzwR15",
        "colab_type": "text"
      },
      "source": [
        "<font color=\"red\">\n",
        "    Compute the log_loss and the roc_auc to compare performance.\n",
        "</font>"
      ]
    },
    {
      "cell_type": "code",
      "metadata": {
        "id": "fu7rXQ2RwR16",
        "colab_type": "code",
        "outputId": "c8cc41fd-f6e5-4c52-cd5f-d7acf1c914fe",
        "colab": {
          "base_uri": "https://localhost:8080/",
          "height": 34
        }
      },
      "source": [
        "soft = gb.predict_proba(Xtest_oh[:, cols_to_keep])[:, 1]\n",
        "log_loss(ytest, soft), roc_auc_score(ytest, soft)"
      ],
      "execution_count": 48,
      "outputs": [
        {
          "output_type": "execute_result",
          "data": {
            "text/plain": [
              "(0.40914807896286876, 0.7251458820672781)"
            ]
          },
          "metadata": {
            "tags": []
          },
          "execution_count": 48
        }
      ]
    },
    {
      "cell_type": "markdown",
      "metadata": {
        "id": "H33UOq87wR18",
        "colab_type": "text"
      },
      "source": [
        "<font color=\"red\">\n",
        "Que fournit l'appel de gb.estimators_ ?\n",
        "</font>"
      ]
    },
    {
      "cell_type": "code",
      "metadata": {
        "scrolled": false,
        "id": "QyjnRn-iwR18",
        "colab_type": "code",
        "outputId": "93dc073f-feca-4a4d-d323-c36847ec17e3",
        "colab": {
          "base_uri": "https://localhost:8080/",
          "height": 381
        }
      },
      "source": [
        "gb.estimators_[:3] # our 50 Decision Trees"
      ],
      "execution_count": 49,
      "outputs": [
        {
          "output_type": "execute_result",
          "data": {
            "text/plain": [
              "array([[DecisionTreeRegressor(criterion='friedman_mse', max_depth=3, max_features=None,\n",
              "                      max_leaf_nodes=None, min_impurity_decrease=0.0,\n",
              "                      min_impurity_split=None, min_samples_leaf=1,\n",
              "                      min_samples_split=2, min_weight_fraction_leaf=0.0,\n",
              "                      presort='auto',\n",
              "                      random_state=RandomState(MT19937) at 0x7F92816CBA98,\n",
              "                      splitter='best')],\n",
              "       [DecisionTreeRegressor(criterion='friedman_mse', max_depth=3, max_features=None,\n",
              "                      max_leaf_nodes=None, min_impurity_decrease=0.0,\n",
              "                      min_impurity_split=None, min_samples_leaf=1,\n",
              "                      min_samples_split=2, min_weight_fraction_leaf=0.0,\n",
              "                      presort='auto',\n",
              "                      random_state=RandomState(MT19937) at 0x7F92816CBA98,\n",
              "                      splitter='best')],\n",
              "       [DecisionTreeRegressor(criterion='friedman_mse', max_depth=3, max_features=None,\n",
              "                      max_leaf_nodes=None, min_impurity_decrease=0.0,\n",
              "                      min_impurity_split=None, min_samples_leaf=1,\n",
              "                      min_samples_split=2, min_weight_fraction_leaf=0.0,\n",
              "                      presort='auto',\n",
              "                      random_state=RandomState(MT19937) at 0x7F92816CBA98,\n",
              "                      splitter='best')]], dtype=object)"
            ]
          },
          "metadata": {
            "tags": []
          },
          "execution_count": 49
        }
      ]
    },
    {
      "cell_type": "markdown",
      "metadata": {
        "id": "hsgB11rNwR1_",
        "colab_type": "text"
      },
      "source": [
        "On cherche désormais à utiliser le classifieur gb pour générer des features utilisables par la régression logistique.\n",
        "<font color=\"red\">\n",
        "Avec la méthode gb.apply du classifieur, générer une transformation leafs_train de la base de train Xtrain_oh[:,cols_to_keep] dont la colonne n correspond au numéro de feuille retourné par l'estimateur n\n",
        "</font>"
      ]
    },
    {
      "cell_type": "code",
      "metadata": {
        "id": "ouNt876iwR1_",
        "colab_type": "code",
        "outputId": "d6d2534f-ec6c-4b4b-8a1f-af1953807d18",
        "colab": {
          "base_uri": "https://localhost:8080/",
          "height": 34
        }
      },
      "source": [
        "# Tester ici la méthode gb.apply sur Xtrain_oh[:, cols_to_keep]\n",
        "gb.apply(Xtrain_oh[:, cols_to_keep]).shape"
      ],
      "execution_count": 50,
      "outputs": [
        {
          "output_type": "execute_result",
          "data": {
            "text/plain": [
              "(900000, 50, 1)"
            ]
          },
          "metadata": {
            "tags": []
          },
          "execution_count": 50
        }
      ]
    },
    {
      "cell_type": "markdown",
      "metadata": {
        "id": "BIBVICEywR2B",
        "colab_type": "text"
      },
      "source": [
        "<font color=\"red\">\n",
        "After your applied gb.apply on Xtrain_oh[:, cols_to_keep], remember that use have only one class to predict (click = 0 or 1). So, do not forget to slice your output with [:, :, 0] in order to keep, firstly, all the samples, and secondly all your 50 estimators.\n",
        "    Hint: you can have a look at the dimensions of your output with .shape !\n",
        "</font>"
      ]
    },
    {
      "cell_type": "code",
      "metadata": {
        "id": "8jdrnc7OwR2B",
        "colab_type": "code",
        "colab": {}
      },
      "source": [
        "leafs_train = pd.DataFrame(gb.apply(Xtrain_oh[:,cols_to_keep])[:, :, 0])\n",
        "leafs_test = pd.DataFrame(gb.apply(Xtest_oh[:,cols_to_keep])[:, :, 0])"
      ],
      "execution_count": 0,
      "outputs": []
    },
    {
      "cell_type": "markdown",
      "metadata": {
        "id": "MxPUe6kLwR2D",
        "colab_type": "text"
      },
      "source": [
        "<font color=\"red\">\n",
        "Effectuer l'encodage en dummies de ces nouvelles features.</font>"
      ]
    },
    {
      "cell_type": "code",
      "metadata": {
        "id": "JGS6iZC8wR2E",
        "colab_type": "code",
        "colab": {}
      },
      "source": [
        "ohe = OneHotEncoder(handle_unknown='ignore')\n",
        "leafs_train_oh = ohe.fit_transform(leafs_train)\n",
        "leafs_test_oh = ohe.transform(leafs_test)"
      ],
      "execution_count": 0,
      "outputs": []
    },
    {
      "cell_type": "markdown",
      "metadata": {
        "id": "rN-JHKkfwR2H",
        "colab_type": "text"
      },
      "source": [
        "<font color=\"red\">\n",
        "    Avec la fonction hstack, créer une nouvelle matrice de features en concaténant horizontalement les nouvelles features ainsi créées, et les features précédemment utilisées pour la régression logistique.\n",
        "    <br><br>\n",
        "    With the \"hstack\" function, create a new matrix of features by concatenating horizontally our new features \"leafs_train_oh\" and \"leafs_test_oh\", and previous features used for logistic regression (e.g. in \"Xtrain_oh[:, cols_to_keep]\").\n",
        "</font>\n",
        "<br><br>\n",
        "**Remark**: we use \"hstack\" from scipy.sparse (and not from numpy) because the output of our OneHotEncoder is a sparse array. You can verify it with the command \"type(Xtrain_oh)\"."
      ]
    },
    {
      "cell_type": "code",
      "metadata": {
        "id": "_nbZkIjhwR2H",
        "colab_type": "code",
        "colab": {}
      },
      "source": [
        "from scipy.sparse import csr_matrix, hstack\n",
        "Xtrain_concat = hstack([Xtrain_oh[:, cols_to_keep], leafs_train_oh])\n",
        "Xtest_concat = hstack([Xtest_oh[:, cols_to_keep], leafs_test_oh])"
      ],
      "execution_count": 0,
      "outputs": []
    },
    {
      "cell_type": "markdown",
      "metadata": {
        "id": "8aEC8kbKwR2I",
        "colab_type": "text"
      },
      "source": [
        "<font color=\"red\">\n",
        "Effectuer une régression logistique sur les nouvelles features.</font>"
      ]
    },
    {
      "cell_type": "code",
      "metadata": {
        "scrolled": false,
        "id": "EijppKZkwR2J",
        "colab_type": "code",
        "outputId": "2dabdb9b-2de8-420e-fa8e-f571c75affea",
        "colab": {
          "base_uri": "https://localhost:8080/",
          "height": 158
        }
      },
      "source": [
        "lr = LogisticRegression()\n",
        "lr.fit(Xtrain_concat, ytrain)"
      ],
      "execution_count": 0,
      "outputs": [
        {
          "output_type": "stream",
          "text": [
            "/usr/local/lib/python3.6/dist-packages/sklearn/linear_model/logistic.py:432: FutureWarning: Default solver will be changed to 'lbfgs' in 0.22. Specify a solver to silence this warning.\n",
            "  FutureWarning)\n"
          ],
          "name": "stderr"
        },
        {
          "output_type": "execute_result",
          "data": {
            "text/plain": [
              "LogisticRegression(C=1.0, class_weight=None, dual=False, fit_intercept=True,\n",
              "                   intercept_scaling=1, l1_ratio=None, max_iter=100,\n",
              "                   multi_class='warn', n_jobs=None, penalty='l2',\n",
              "                   random_state=None, solver='warn', tol=0.0001, verbose=0,\n",
              "                   warm_start=False)"
            ]
          },
          "metadata": {
            "tags": []
          },
          "execution_count": 75
        }
      ]
    },
    {
      "cell_type": "code",
      "metadata": {
        "id": "iPWdYMfjwR2N",
        "colab_type": "code",
        "outputId": "f8afa6d9-0035-4ec1-e97f-f4fb47a1635d",
        "colab": {
          "base_uri": "https://localhost:8080/",
          "height": 34
        }
      },
      "source": [
        "soft = lr.predict_proba(Xtest_concat)[:, 1]\n",
        "log_loss(ytest, soft), roc_auc_score(ytest, soft)"
      ],
      "execution_count": 0,
      "outputs": [
        {
          "output_type": "execute_result",
          "data": {
            "text/plain": [
              "(0.39994281905246537, 0.7417537452123102)"
            ]
          },
          "metadata": {
            "tags": []
          },
          "execution_count": 76
        }
      ]
    },
    {
      "cell_type": "markdown",
      "metadata": {
        "id": "Vy_ozEeWwR2R",
        "colab_type": "text"
      },
      "source": [
        "# XGBoost\n",
        "<br>\n",
        "<font color=\"red\">\n",
        "Importer XGBClassifier du package xgboost.  \n",
        "Entrainer le classifieur avec le même nombre d'estimateur et le même learning rate que précédemment, et en fixant le paramètre n_jobs=-1.  \n",
        "Comparer le résultat avec le GradientBoosting de scikit learn (risque et temps de calcul)\n",
        "</font>"
      ]
    },
    {
      "cell_type": "code",
      "metadata": {
        "id": "9sAp83AewR2R",
        "colab_type": "code",
        "outputId": "b8618429-30a9-441f-d3bc-2e293492c31d",
        "colab": {
          "base_uri": "https://localhost:8080/",
          "height": 173
        }
      },
      "source": [
        "from xgboost import XGBClassifier\n",
        "xgb = XGBClassifier(verbose=True, n_estimators=50, learning_rate=0.8, n_jobs=-1)\n",
        "%time xgb.fit(Xtrain_oh[:, cols_to_keep], ytrain)"
      ],
      "execution_count": 51,
      "outputs": [
        {
          "output_type": "stream",
          "text": [
            "CPU times: user 52.2 s, sys: 348 ms, total: 52.6 s\n",
            "Wall time: 29.1 s\n"
          ],
          "name": "stdout"
        },
        {
          "output_type": "execute_result",
          "data": {
            "text/plain": [
              "XGBClassifier(base_score=0.5, booster='gbtree', colsample_bylevel=1,\n",
              "              colsample_bynode=1, colsample_bytree=1, gamma=0,\n",
              "              learning_rate=0.8, max_delta_step=0, max_depth=3,\n",
              "              min_child_weight=1, missing=None, n_estimators=50, n_jobs=-1,\n",
              "              nthread=None, objective='binary:logistic', random_state=0,\n",
              "              reg_alpha=0, reg_lambda=1, scale_pos_weight=1, seed=None,\n",
              "              silent=None, subsample=1, verbose=True, verbosity=1)"
            ]
          },
          "metadata": {
            "tags": []
          },
          "execution_count": 51
        }
      ]
    },
    {
      "cell_type": "markdown",
      "metadata": {
        "id": "gK51Tzl4wR2U",
        "colab_type": "text"
      },
      "source": [
        "<font color=\"red\">\n",
        "    Compute the log_loss and the roc_auc to compare performance.\n",
        "</font>"
      ]
    },
    {
      "cell_type": "code",
      "metadata": {
        "id": "zPBeD1lNwR2V",
        "colab_type": "code",
        "outputId": "150108fc-b72d-4183-95eb-658ce4762f04",
        "colab": {
          "base_uri": "https://localhost:8080/",
          "height": 34
        }
      },
      "source": [
        "soft = xgb.predict_proba(Xtest_oh[:, cols_to_keep])[:, 1]\n",
        "log_loss(ytest, soft), roc_auc_score(ytest, soft)"
      ],
      "execution_count": 52,
      "outputs": [
        {
          "output_type": "execute_result",
          "data": {
            "text/plain": [
              "(0.40789665716135876, 0.7244454605414952)"
            ]
          },
          "metadata": {
            "tags": []
          },
          "execution_count": 52
        }
      ]
    },
    {
      "cell_type": "markdown",
      "metadata": {
        "id": "0OlzlJR8wR2a",
        "colab_type": "text"
      },
      "source": [
        "<font color=\"red\">\n",
        "Augmenter le nombre d'estimateurs (~1000) et visualiser l'impact sur les performances (on sera aussi amené à agir sur le learning rate)</font>"
      ]
    },
    {
      "cell_type": "code",
      "metadata": {
        "id": "Dvz4XzmlwR2a",
        "colab_type": "code",
        "outputId": "414898e6-0035-4be6-c13e-c372a1eb7933",
        "colab": {
          "base_uri": "https://localhost:8080/",
          "height": 69
        }
      },
      "source": [
        "xgb = XGBClassifier(n_estimators=1024, learning_rate=0.5, n_jobs=-1)\n",
        "%time xgb.fit(Xtrain_oh[:, cols_to_keep], ytrain)\n",
        "soft = xgb.predict_proba(Xtest_oh[:, cols_to_keep])[:, 1]\n",
        "log_loss(ytest, soft), roc_auc_score(ytest, soft)"
      ],
      "execution_count": 0,
      "outputs": [
        {
          "output_type": "stream",
          "text": [
            "CPU times: user 17min 22s, sys: 599 ms, total: 17min 23s\n",
            "Wall time: 8min 47s\n"
          ],
          "name": "stdout"
        },
        {
          "output_type": "execute_result",
          "data": {
            "text/plain": [
              "(0.39821674409500835, 0.7446823846260079)"
            ]
          },
          "metadata": {
            "tags": []
          },
          "execution_count": 79
        }
      ]
    },
    {
      "cell_type": "markdown",
      "metadata": {
        "id": "ryk6HVnSwR2e",
        "colab_type": "text"
      },
      "source": [
        "# Hashing de features et random forest\n",
        "<br>\n",
        "Nous repartons des features brutes avant encodage en dummies (Xtrain, Xtest).\n",
        "<font color=\"red\">\n",
        "Afficher à nouveau le nombre de modalités uniques par feature dans Xtrain (avec la méthode \".nunique\").\n",
        "</font>"
      ]
    },
    {
      "cell_type": "code",
      "metadata": {
        "id": "cRdtdeqrwR2g",
        "colab_type": "code",
        "outputId": "941eba3c-884f-4bf4-fea9-df652080c17d",
        "colab": {
          "base_uri": "https://localhost:8080/",
          "height": 364
        }
      },
      "source": [
        "Xtrain.nunique()"
      ],
      "execution_count": 53,
      "outputs": [
        {
          "output_type": "execute_result",
          "data": {
            "text/plain": [
              "hour                  24\n",
              "C1                     7\n",
              "banner_pos             7\n",
              "site_category         22\n",
              "app_id              3054\n",
              "app_domain           196\n",
              "app_category          26\n",
              "device_type            5\n",
              "device_conn_type       4\n",
              "C14                 2225\n",
              "C15                    8\n",
              "C16                    9\n",
              "C17                  420\n",
              "C18                    4\n",
              "C19                   66\n",
              "C20                  163\n",
              "C21                   60\n",
              "weekday                7\n",
              "site                5442\n",
              "dtype: int64"
            ]
          },
          "metadata": {
            "tags": []
          },
          "execution_count": 53
        }
      ]
    },
    {
      "cell_type": "markdown",
      "metadata": {
        "id": "CqYu_l3qwR2i",
        "colab_type": "text"
      },
      "source": [
        "On veut définir une transformation qui regroupe les modalités les moins fréquentes au sein d'un même label \"isRare\".  \n",
        "Pour cela, nous choisissons de définir notre propre Transformer.\n",
        "<font color=\"red\">\n",
        "Comprendre les étapes de fit et de transform.\n",
        "</font>"
      ]
    },
    {
      "cell_type": "code",
      "metadata": {
        "id": "b-DqaOh7wR2k",
        "colab_type": "code",
        "colab": {}
      },
      "source": [
        "from sklearn.base import BaseEstimator, TransformerMixin\n",
        "\n",
        "class MergeRareTransformer(BaseEstimator, TransformerMixin):\n",
        "    \n",
        "    def __init__(self, col_names, threshold):\n",
        "        self.col_names = col_names\n",
        "        self.threshold = threshold\n",
        "\n",
        "    def fit(self, X, y=None):\n",
        "\n",
        "        X = pd.DataFrame(X)\n",
        "        counts_dict_list = []\n",
        "        ################## READ THIS #########################\n",
        "        for i in range(len(self.col_names)):\n",
        "            \n",
        "            serie = X[self.col_names[i]].value_counts()  # Série des counts de chaque modalité\n",
        "            rare_indexes = serie[serie<self.threshold[i]].index  # A quoi correspondent ces indices ?\n",
        "            frequent_indexes = serie[serie>=self.threshold[i]].index  # A quoi correspondent ces indices ?\n",
        "            dico = {x:'isRare' for x in rare_indexes}\n",
        "            dico.update({x: str(x) for x in frequent_indexes})\n",
        "            counts_dict_list.append(dico)   # Quel est le dictionnaire obtenu ?\n",
        "            \n",
        "        ######################################################\n",
        "            \n",
        "        self.counts_dict_list_ = counts_dict_list\n",
        "        return self\n",
        "\n",
        "    def transform(self, X):\n",
        "\n",
        "        Xt = pd.DataFrame()\n",
        "        ################## READ THIS #########################\n",
        "        for col, count_dict in zip(self.col_names, self.counts_dict_list_):\n",
        "            Xt[col] = X[col].apply(lambda x:count_dict[x] if x in count_dict else 'isRare')\n",
        "            # A quoi sert le \"else 'isRare'\" dans la transformation de la colonne ?\n",
        "        ######################################################\n",
        "\n",
        "        return Xt\n"
      ],
      "execution_count": 0,
      "outputs": []
    },
    {
      "cell_type": "markdown",
      "metadata": {
        "id": "CMGrN5brwR2m",
        "colab_type": "text"
      },
      "source": [
        "<font color=\"red\">\n",
        "Fitter et transformer le train set. On fusionnera toutes les modalités présentes moins de 20 fois dans chaque colonne.  \n",
        "Transformer le test set.\n",
        "</font>"
      ]
    },
    {
      "cell_type": "code",
      "metadata": {
        "id": "zCt9eTYEwR2m",
        "colab_type": "code",
        "colab": {}
      },
      "source": [
        "mg = MergeRareTransformer(col_names=Xtrain.columns, threshold=[20]*len(Xtrain.columns))\n",
        "Xtrain_mg = mg.fit_transform(Xtrain) # herited from \"TransformerMixin\"\n",
        "Xtest_mg = mg.transform(Xtest)"
      ],
      "execution_count": 0,
      "outputs": []
    },
    {
      "cell_type": "markdown",
      "metadata": {
        "id": "iLCHUrYFwR2q",
        "colab_type": "text"
      },
      "source": [
        "<font color=\"red\">\n",
        "En appliquant la méthode .value_counts(), combien d'éléments de la colonne Xtrain_mg['app_domain'] sont désormais labelisés comme \"rares\" ?\n",
        "</font>"
      ]
    },
    {
      "cell_type": "code",
      "metadata": {
        "id": "pVdx8JiwwR2q",
        "colab_type": "code",
        "outputId": "96f56dc2-2a3b-4d6a-d70d-c52b4039f796",
        "colab": {
          "base_uri": "https://localhost:8080/",
          "height": 954
        }
      },
      "source": [
        "Xtrain_mg['app_domain'].value_counts()"
      ],
      "execution_count": 56,
      "outputs": [
        {
          "output_type": "execute_result",
          "data": {
            "text/plain": [
              "7801e8d9    606390\n",
              "2347f47a    116467\n",
              "ae637522     41928\n",
              "5c5a694b     25289\n",
              "82e27996     16869\n",
              "d9b5648e     15709\n",
              "0e8616ad     14784\n",
              "b9528b13     14284\n",
              "b8d325c3     11953\n",
              "aefc06bd      6644\n",
              "df32afa9      6412\n",
              "33da2e74      5911\n",
              "6f7ca2ba      4990\n",
              "5b9c592b      2448\n",
              "885c7f3f      1468\n",
              "5c620f04      1419\n",
              "45a51db4      1219\n",
              "b5f3b24a      1093\n",
              "813f3323       544\n",
              "0654b444       514\n",
              "isRare         513\n",
              "ad63ec9b       388\n",
              "c6824def       306\n",
              "15ec7f39       275\n",
              "a8b0bf20       266\n",
              "99b4c806       219\n",
              "828da833       185\n",
              "448ca2e3       167\n",
              "f2f777fb       157\n",
              "43cf4f06       149\n",
              "47464e95        99\n",
              "d6feb1a4        95\n",
              "2b627705        89\n",
              "1ea19ec4        72\n",
              "db829551        69\n",
              "6a0a3a9d        59\n",
              "18eb4e75        56\n",
              "0d79ee56        53\n",
              "9ec164d3        51\n",
              "e5d5313f        46\n",
              "b12ff13e        42\n",
              "27ee373d        36\n",
              "b408d42a        30\n",
              "5ac0b939        28\n",
              "bb6bcbae        27\n",
              "1ed56ded        27\n",
              "3feeed1e        26\n",
              "15c23f8e        25\n",
              "63f57be0        25\n",
              "7eec2ab0        24\n",
              "7a9371fa        21\n",
              "dcdba109        20\n",
              "afdf1f54        20\n",
              "Name: app_domain, dtype: int64"
            ]
          },
          "metadata": {
            "tags": []
          },
          "execution_count": 56
        }
      ]
    },
    {
      "cell_type": "markdown",
      "metadata": {
        "id": "6wi5LIWDwR2v",
        "colab_type": "text"
      },
      "source": [
        "<font color=\"red\">\n",
        "Dans la base de train, afficher le nombre de modalité par colonne.</font>"
      ]
    },
    {
      "cell_type": "code",
      "metadata": {
        "id": "zlEM90glwR2v",
        "colab_type": "code",
        "outputId": "68ea7786-3d62-4c23-cd5f-05c6ed8dcf6a",
        "colab": {
          "base_uri": "https://localhost:8080/",
          "height": 364
        }
      },
      "source": [
        "Xtrain_mg.nunique()"
      ],
      "execution_count": 57,
      "outputs": [
        {
          "output_type": "execute_result",
          "data": {
            "text/plain": [
              "hour                  24\n",
              "C1                     7\n",
              "banner_pos             7\n",
              "site_category         18\n",
              "app_id               613\n",
              "app_domain            53\n",
              "app_category          19\n",
              "device_type            5\n",
              "device_conn_type       4\n",
              "C14                 1339\n",
              "C15                    8\n",
              "C16                    9\n",
              "C17                  381\n",
              "C18                    4\n",
              "C19                   63\n",
              "C20                  148\n",
              "C21                   60\n",
              "weekday                7\n",
              "site                 889\n",
              "dtype: int64"
            ]
          },
          "metadata": {
            "tags": []
          },
          "execution_count": 57
        }
      ]
    },
    {
      "cell_type": "markdown",
      "metadata": {
        "id": "3qfjkwIgwR20",
        "colab_type": "text"
      },
      "source": [
        "Les modalités sont des objets arbitraires du type : 234, 'isRare', etc. Nous allons les transformer en entiers avec le hashing trick.\n",
        "<font color=\"red\">\n",
        "Pour comprendre le fonctionnement de la fonction \"hash\", l'appliquer à une chaîne de caractère quelconque.\n",
        "</font>"
      ]
    },
    {
      "cell_type": "code",
      "metadata": {
        "id": "U1kakySVwR21",
        "colab_type": "code",
        "outputId": "45d44a8d-ca88-472d-d5f9-4a7fa5c04c40",
        "colab": {
          "base_uri": "https://localhost:8080/",
          "height": 34
        }
      },
      "source": [
        "import hashlib\n",
        "hash(\"Hello\")"
      ],
      "execution_count": 58,
      "outputs": [
        {
          "output_type": "execute_result",
          "data": {
            "text/plain": [
              "7829580220843301694"
            ]
          },
          "metadata": {
            "tags": []
          },
          "execution_count": 58
        }
      ]
    },
    {
      "cell_type": "markdown",
      "metadata": {
        "id": "J9F8fSpgwR23",
        "colab_type": "text"
      },
      "source": [
        "On créée deux nouvelles dataframe Xtrain_ha, Xtest_ha, contenant le résultat du hashing.\n",
        "<font color=\"red\">\n",
        "Avec la méthode .apply, transformer itérativement les colonnes en appliquant à chacune le reste de la division euclidienne du hash par 1000000. Exemple : \n",
        "</font>\n",
        "<p>\n",
        "<center>\n",
        "2060777048690<font color=\"red\">918393</font>  -->  918393\n",
        "</center>"
      ]
    },
    {
      "cell_type": "code",
      "metadata": {
        "id": "QVZt1mOVwR24",
        "colab_type": "code",
        "colab": {}
      },
      "source": [
        "Xtrain_ha = pd.DataFrame()\n",
        "Xtest_ha = pd.DataFrame()\n",
        "for col in Xtrain_mg.columns:\n",
        "    Xtrain_ha[col] = Xtrain_mg[col].apply(lambda x: hash(str(x)) % 1000000)\n",
        "    Xtest_ha[col] = Xtest_mg[col].apply(lambda x: hash(str(x)) % 1000000)"
      ],
      "execution_count": 0,
      "outputs": []
    },
    {
      "cell_type": "markdown",
      "metadata": {
        "id": "yFRbiahWwR25",
        "colab_type": "text"
      },
      "source": [
        "<font color=\"red\">\n",
        "Visualiser le contenu des dataframe obtenues. </font>"
      ]
    },
    {
      "cell_type": "code",
      "metadata": {
        "id": "mxXpWeY7wR27",
        "colab_type": "code",
        "outputId": "31644d24-99f7-4410-8324-a2ad832097d0",
        "colab": {
          "base_uri": "https://localhost:8080/",
          "height": 954
        }
      },
      "source": [
        "Xtrain_ha['app_domain'].value_counts()"
      ],
      "execution_count": 60,
      "outputs": [
        {
          "output_type": "execute_result",
          "data": {
            "text/plain": [
              "595014    606390\n",
              "527090    116467\n",
              "922992     41928\n",
              "528786     25289\n",
              "915080     16869\n",
              "999447     15709\n",
              "292819     14784\n",
              "998565     14284\n",
              "483718     11953\n",
              "748764      6644\n",
              "253303      6412\n",
              "518652      5911\n",
              "310777      4990\n",
              "127888      2448\n",
              "349961      1468\n",
              "510424      1419\n",
              "736995      1219\n",
              "548931      1093\n",
              "404862       544\n",
              "151924       514\n",
              "330333       513\n",
              "538409       388\n",
              "444941       306\n",
              "224503       275\n",
              "701162       266\n",
              "964088       219\n",
              "900506       185\n",
              "487276       167\n",
              "250636       157\n",
              "318494       149\n",
              "515843        99\n",
              "969516        95\n",
              "56775         89\n",
              "562914        72\n",
              "291827        69\n",
              "567081        59\n",
              "121337        56\n",
              "348193        53\n",
              "366396        51\n",
              "465419        46\n",
              "35570         42\n",
              "89538         36\n",
              "915289        30\n",
              "76411         28\n",
              "181305        27\n",
              "636733        27\n",
              "124200        26\n",
              "986881        25\n",
              "281195        25\n",
              "324407        24\n",
              "713797        21\n",
              "554369        20\n",
              "210960        20\n",
              "Name: app_domain, dtype: int64"
            ]
          },
          "metadata": {
            "tags": []
          },
          "execution_count": 60
        }
      ]
    },
    {
      "cell_type": "markdown",
      "metadata": {
        "id": "BAZFmeFowR2-",
        "colab_type": "text"
      },
      "source": [
        "<font color=\"red\">\n",
        "Entrainer un classifieur random forest, l'entraîner sur Xtrain_ha, et évaluer ses performances sur Xtest_ha.  \n",
        "On pourra choisir 1024 estimateurs, min_samples_leaf=20 et verbose=1 pour être tenu au courant de l'avancée des calculs.  \n",
        "Comment fixer le paramètre n_jobs ?\n",
        "</font>"
      ]
    },
    {
      "cell_type": "code",
      "metadata": {
        "id": "Lyz_SZkUwR2-",
        "colab_type": "code",
        "colab": {}
      },
      "source": [
        "from sklearn.ensemble import RandomForestClassifier\n",
        "rf = RandomForestClassifier(n_estimators=1024, n_jobs=-1, min_samples_leaf=20, verbose=1)\n",
        "rf.fit(Xtrain_ha, ytrain)"
      ],
      "execution_count": 0,
      "outputs": []
    },
    {
      "cell_type": "code",
      "metadata": {
        "id": "IAawl7rPwR3C",
        "colab_type": "code",
        "outputId": "8de7d204-7d82-4349-ab27-aabcc93d0f15",
        "colab": {}
      },
      "source": [
        "soft = rf.predict_proba(Xtest_ha)[:, 1]\n",
        "log_loss(ytest, soft), roc_auc_score(ytest, soft)"
      ],
      "execution_count": 0,
      "outputs": [
        {
          "output_type": "stream",
          "text": [
            "[Parallel(n_jobs=8)]: Using backend ThreadingBackend with 8 concurrent workers.\n",
            "[Parallel(n_jobs=8)]: Done  34 tasks      | elapsed:    0.3s\n",
            "[Parallel(n_jobs=8)]: Done 184 tasks      | elapsed:    1.2s\n",
            "[Parallel(n_jobs=8)]: Done 434 tasks      | elapsed:    2.8s\n",
            "[Parallel(n_jobs=8)]: Done 784 tasks      | elapsed:    5.0s\n",
            "[Parallel(n_jobs=8)]: Done 1024 out of 1024 | elapsed:    6.4s finished\n"
          ],
          "name": "stderr"
        },
        {
          "output_type": "execute_result",
          "data": {
            "text/plain": [
              "(0.4007388573254943, 0.7415634911772827)"
            ]
          },
          "metadata": {
            "tags": []
          },
          "execution_count": 68
        }
      ]
    },
    {
      "cell_type": "markdown",
      "metadata": {
        "id": "9USEM3yAwR3G",
        "colab_type": "text"
      },
      "source": [
        "<font color=\"red\">\n",
        "Comparer avec les performances de xgboost sur le même modèle.</font>"
      ]
    },
    {
      "cell_type": "code",
      "metadata": {
        "id": "14PjEQQCwR3G",
        "colab_type": "code",
        "outputId": "a775d9c6-8dc2-46b4-aba5-cb5b46242ff5",
        "colab": {}
      },
      "source": [
        "xgb = XGBClassifier(n_estimators=1024, learning_rate=0.5, n_jobs=-1)\n",
        "%time xgb.fit(Xtrain_ha, ytrain)\n",
        "soft = xgb.predict_proba(Xtest_ha)[:, 1]\n",
        "log_loss(ytest, soft), roc_auc_score(ytest, soft)"
      ],
      "execution_count": 0,
      "outputs": [
        {
          "output_type": "stream",
          "text": [
            "CPU times: user 13min 41s, sys: 1min 31s, total: 15min 13s\n",
            "Wall time: 1min 54s\n"
          ],
          "name": "stdout"
        },
        {
          "output_type": "execute_result",
          "data": {
            "text/plain": [
              "(0.39766974691295587, 0.7463071888531841)"
            ]
          },
          "metadata": {
            "tags": []
          },
          "execution_count": 69
        }
      ]
    },
    {
      "cell_type": "markdown",
      "metadata": {
        "id": "1JdIC1u3wR3I",
        "colab_type": "text"
      },
      "source": [
        "<font color=\"red\">\n",
        "Afficher la courbe roc et la courbe de lift pour le classifieur obtenu.</font>"
      ]
    },
    {
      "cell_type": "code",
      "metadata": {
        "scrolled": true,
        "id": "YK6ULKCXwR3K",
        "colab_type": "code",
        "outputId": "4c412e2b-bee5-4613-e6f4-38634d5832c9",
        "colab": {}
      },
      "source": [
        "plotlift(ytest, soft)"
      ],
      "execution_count": 0,
      "outputs": [
        {
          "output_type": "display_data",
          "data": {
            "image/png": "[encoded data removed]",
            "text/plain": [
              "<Figure size 432x288 with 1 Axes>"
            ]
          },
          "metadata": {
            "tags": []
          }
        }
      ]
    },
    {
      "cell_type": "code",
      "metadata": {
        "id": "2cyxx1dRwR3O",
        "colab_type": "code",
        "outputId": "288a95fa-8b35-41d7-8f9c-cbf9456f5d22",
        "colab": {}
      },
      "source": [
        "pfa, power, _ = roc_curve(y_true=ytest, y_score=soft)\n",
        "plt.plot(pfa, power)\n",
        "plt.grid()\n",
        "plt.plot([0, 1], [0, 1], 'r--')\n",
        "plt.xlabel('False Positive Rate', fontsize=16);\n",
        "plt.ylabel('True Positive Rate', fontsize=16);"
      ],
      "execution_count": 0,
      "outputs": [
        {
          "output_type": "display_data",
          "data": {
            "image/png": "[encoded data removed]",
            "text/plain": [
              "<Figure size 432x288 with 1 Axes>"
            ]
          },
          "metadata": {
            "tags": []
          }
        }
      ]
    },
    {
      "cell_type": "markdown",
      "metadata": {
        "collapsed": true,
        "id": "0aYRFFbwwR3c",
        "colab_type": "text"
      },
      "source": [
        "# BONUS"
      ]
    },
    {
      "cell_type": "markdown",
      "metadata": {
        "collapsed": true,
        "id": "79vwbM46wR3c",
        "colab_type": "text"
      },
      "source": [
        "# Field-aware Factorization Machines\n",
        "<br>\n",
        "<font color=\"red\">\n",
        "Afficher les noms des colonnes de la matrice Xtrain_ha\n",
        "</font>"
      ]
    },
    {
      "cell_type": "code",
      "metadata": {
        "id": "X4hTxo5owR3d",
        "colab_type": "code",
        "colab": {
          "base_uri": "https://localhost:8080/",
          "height": 86
        },
        "outputId": "4e13cb2a-fbc4-4eb6-d787-760e14d43926"
      },
      "source": [
        "Xtrain_ha.columns"
      ],
      "execution_count": 80,
      "outputs": [
        {
          "output_type": "execute_result",
          "data": {
            "text/plain": [
              "Index(['hour', 'C1', 'banner_pos', 'site_category', 'app_id', 'app_domain',\n",
              "       'app_category', 'device_type', 'device_conn_type', 'C14', 'C15', 'C16',\n",
              "       'C17', 'C18', 'C19', 'C20', 'C21', 'weekday', 'user', 'site'],\n",
              "      dtype='object')"
            ]
          },
          "metadata": {
            "tags": []
          },
          "execution_count": 80
        }
      ]
    },
    {
      "cell_type": "markdown",
      "metadata": {
        "id": "09MtipSwwR3d",
        "colab_type": "text"
      },
      "source": [
        "<font color=\"red\">\n",
        "Créer une liste de liste de colonnes. La nème sous-liste comporte les noms des colonnes du nème champ.</font>"
      ]
    },
    {
      "cell_type": "code",
      "metadata": {
        "id": "5W2_lAeRwR3e",
        "colab_type": "code",
        "colab": {}
      },
      "source": [
        "fields = []\n",
        "fields.append(['hour', 'weekday'])\n",
        "fields.append(['C1','banner_pos'])\n",
        "fields.append(['site','site_category'])\n",
        "fields.append(['app_id', 'app_domain','app_category'])\n",
        "fields.append(['user', 'device_type', 'device_conn_type'])\n",
        "fields.append(['C14'])\n",
        "fields.append(['C15', 'C16','C17', 'C18'])\n",
        "fields.append(['C19', 'C20', 'C21'])\n"
      ],
      "execution_count": 0,
      "outputs": []
    },
    {
      "cell_type": "markdown",
      "metadata": {
        "id": "zf7-o-0jwR3g",
        "colab_type": "text"
      },
      "source": [
        "<font color=\"red\">\n",
        "Avec enumerate, générer un dictionnaire qui à chaque nom de colonne associe son champ.</font>"
      ]
    },
    {
      "cell_type": "code",
      "metadata": {
        "id": "h17Sj9aPwR3g",
        "colab_type": "code",
        "colab": {}
      },
      "source": [
        "dicFields = {name_col:i for i,f in enumerate(fields) for name_col in f}"
      ],
      "execution_count": 0,
      "outputs": []
    },
    {
      "cell_type": "markdown",
      "metadata": {
        "id": "eEPgNI7mwR3i",
        "colab_type": "text"
      },
      "source": [
        "Pour formatter les données au format LibFFM, nous devons nous assurer que deux colonnes différentes possèdent des modalités différentes. Pour cela, nous ajoutons devant chaque modalité une chaîne de caractère caractéristique de la colonne.\n",
        "<center>\n",
        "x --> 'nom de la colonne ' + str(x)\n",
        "</center>\n",
        "<br>\n",
        "<font color=\"red\">Effectuer cette transformation avec la méthode apply</font>"
      ]
    },
    {
      "cell_type": "code",
      "metadata": {
        "id": "EDPfYa6XwR3j",
        "colab_type": "code",
        "colab": {}
      },
      "source": [
        "Xtrain_ffm = pd.DataFrame()\n",
        "Xtest_ffm = pd.DataFrame()\n",
        "for col in Xtrain_ha.columns:\n",
        "    Xtrain_ffm[col] = Xtrain_ha[col].apply(lambda x:col+str(x))\n",
        "    Xtest_ffm[col] = Xtest_ha[col].apply(lambda x:col+str(x))"
      ],
      "execution_count": 0,
      "outputs": []
    },
    {
      "cell_type": "markdown",
      "metadata": {
        "id": "DU13BpvzwR3l",
        "colab_type": "text"
      },
      "source": [
        "Avec np.unique, on créée la liste de toutes les modalités apparaissant dans toutes les colonnes."
      ]
    },
    {
      "cell_type": "code",
      "metadata": {
        "id": "sWDl4OdrwR3l",
        "colab_type": "code",
        "colab": {}
      },
      "source": [
        "allvals = []\n",
        "allcols_ffm = [col for f in fields for col in f]  # Toutes les colonnes appartenant à l'un des champ\n",
        "for col in allcols_ffm:\n",
        "    allvals.append(np.unique(Xtrain_ffm[col]))\n",
        "allvals= [val for sublist in allvals for val in sublist]"
      ],
      "execution_count": 0,
      "outputs": []
    },
    {
      "cell_type": "markdown",
      "metadata": {
        "id": "kZ5L_zeUwR3m",
        "colab_type": "text"
      },
      "source": [
        "<font color=\"red\">\n",
        "En utilisant \"enumerate\", créer un dictionnaire qui à chaque valeur associe son rang dans la liste allvals.</font>"
      ]
    },
    {
      "cell_type": "code",
      "metadata": {
        "id": "RZuWfpZ9wR3m",
        "colab_type": "code",
        "colab": {}
      },
      "source": [
        "dicFeat = {val:i for i,val in enumerate(allvals)}"
      ],
      "execution_count": 0,
      "outputs": []
    },
    {
      "cell_type": "markdown",
      "metadata": {
        "id": "P4OqH_O2wR3o",
        "colab_type": "text"
      },
      "source": [
        "On les dataframe comme suit : \n",
        "dans chaque colonne \"col\", la valeur \"x\" est remplacée par la chaîne de caractère \"f:v:1\", où f est le champ associé à la colonne et v est l'indice de la modalité x.\n",
        "<font color=\"red\">\n",
        "Inspecter le code ci-dessous.</font>"
      ]
    },
    {
      "cell_type": "code",
      "metadata": {
        "id": "-JIpJ0dBwR3o",
        "colab_type": "code",
        "colab": {}
      },
      "source": [
        "for col in allcols_ffm:\n",
        "    f = dicFields[col]\n",
        "    Xtrain_ffm[col] = Xtrain_ffm[col].apply(lambda x:\"{}:{}:1\".format(f,dicFeat[x]) if x in dicFeat else \"\")\n",
        "    Xtest_ffm[col] = Xtest_ffm[col].apply(lambda x:\"{}:{}:1\".format(f,dicFeat[x]) if x in dicFeat else \"\")"
      ],
      "execution_count": 0,
      "outputs": []
    },
    {
      "cell_type": "markdown",
      "metadata": {
        "id": "gbaY1favwR3p",
        "colab_type": "text"
      },
      "source": [
        "<font color=\"red\">Pour les deux dataframe obtenues, concaténer à gauche la colonne de clics ytrain ou ytest correspondante</font>"
      ]
    },
    {
      "cell_type": "code",
      "metadata": {
        "id": "-233VTpewR3p",
        "colab_type": "code",
        "colab": {}
      },
      "source": [
        "yXtrain_ffm = pd.concat([pd.DataFrame(ytrain).applymap(str),Xtrain_ffm],axis=1)\n",
        "yXtest_ffm = pd.concat([pd.DataFrame(ytest).applymap(str),Xtest_ffm],axis=1)"
      ],
      "execution_count": 0,
      "outputs": []
    },
    {
      "cell_type": "markdown",
      "metadata": {
        "id": "TClWdixKwR3q",
        "colab_type": "text"
      },
      "source": [
        "<font color=\"red\">Que produit la commande ci-dessous ?</font>"
      ]
    },
    {
      "cell_type": "code",
      "metadata": {
        "id": "HnJPKPvjwR3r",
        "colab_type": "code",
        "colab": {}
      },
      "source": [
        "train_w = yXtrain_ffm.apply(lambda row:' '.join(row.values),axis=1).values\n",
        "test_w = yXtest_ffm.apply(lambda row:' '.join(row.values),axis=1).values"
      ],
      "execution_count": 0,
      "outputs": []
    },
    {
      "cell_type": "markdown",
      "metadata": {
        "id": "dFOwiPPpwR3t",
        "colab_type": "text"
      },
      "source": [
        "<font color=\"red\">Ecrire les dataframe ci-dessus dans un fichier texte</font>"
      ]
    },
    {
      "cell_type": "code",
      "metadata": {
        "id": "ZoA_KanAwR3t",
        "colab_type": "code",
        "colab": {}
      },
      "source": [
        "thefile = open('test.txt','w')\n",
        "for item in test_w:\n",
        "    thefile.write(\"%s\\n\" % item)\n",
        "thefile = open('train.txt','w')\n",
        "for item in train_w:\n",
        "    thefile.write(\"%s\\n\" % item)\n"
      ],
      "execution_count": 0,
      "outputs": []
    },
    {
      "cell_type": "markdown",
      "metadata": {
        "id": "mnq6wlz_wR3v",
        "colab_type": "text"
      },
      "source": [
        "Pour apprendre le modèle de FFM, on utilise la librairie LibFFM https://www.csie.ntu.edu.tw/~cjlin/libffm/  \n",
        "Dans le répertoire notebooks/ se trouvent deux exécutables : ffm-train et ffm-predict.  \n",
        "Dans jupyter notebook, le point d'exclamation ! permet de lancer une commande bash.  \n",
        "L'usage est le suivant : \n",
        "\n",
        "-   `ffm-train'\n",
        "\n",
        "    usage: ffm-train [options] training_set_file [model_file]\n",
        "\n",
        "    options:  \n",
        "    -l <lambda>: set regularization parameter (default 0.00002)  \n",
        "    -k <factor>: set number of latent factors (default 4)  \n",
        "    -t <iteration>: set number of iterations (default 15)  \n",
        "    -r <eta>: set learning rate (default 0.2)  \n",
        "    -s <nr_threads>: set number of threads (default 1)  \n",
        "    -p <path>: set path to the validation set  \n",
        "    --quiet: quiet model (no output)  \n",
        "    --no-norm: disable instance-wise normalization  \n",
        "    --auto-stop: stop at the iteration that achieves the best validation loss (must be used with -p)  \n",
        "<br>\n",
        "<font color=\"red\">Apprendre le modèle. On pourra :  \n",
        "- utiliser un paramètre de régularisation de 0.00001  \n",
        "- utiliser un learning rate de 0.05  \n",
        "- utiliser de l'ordre de 15 facteurs latents\n",
        "- effectuer de l'ordre de 30 itérations  \n",
        "- avec l'option -p, passer en paramètres de validation le ficher de test  \n",
        "- activer le mode --autostop \n",
        "</font> "
      ]
    },
    {
      "cell_type": "code",
      "metadata": {
        "id": "-vKrf8K_wR3v",
        "colab_type": "code",
        "colab": {}
      },
      "source": [
        "!./ffm-train -l 0.00001 -k 15 -t 30 -r 0.05 --auto-stop -p test.txt train.txt model"
      ],
      "execution_count": 0,
      "outputs": []
    },
    {
      "cell_type": "markdown",
      "metadata": {
        "id": "87-LJr-QwR3w",
        "colab_type": "text"
      },
      "source": [
        "L'usage de ffm-predict est : ffm-predict nom-fichier-test nom-fichier-modèle fichier-dans-lequel-ecrire-la-prediction  \n",
        "<font color=\"red\">Effectuer la prédiction.</font>"
      ]
    },
    {
      "cell_type": "code",
      "metadata": {
        "id": "6GHrjoiywR3w",
        "colab_type": "code",
        "colab": {}
      },
      "source": [
        "!./ffm-predict \"test.txt\" \"model\" \"prediction_ffm\""
      ],
      "execution_count": 0,
      "outputs": []
    },
    {
      "cell_type": "markdown",
      "metadata": {
        "id": "FrYc6Tu5wR3z",
        "colab_type": "text"
      },
      "source": [
        "<font color=\"red\">Calculer la log_loss et l'aire sous la courbe roc.</font>"
      ]
    },
    {
      "cell_type": "code",
      "metadata": {
        "id": "gygzviphwR3z",
        "colab_type": "code",
        "colab": {}
      },
      "source": [
        "soft = pd.read_csv(\"prediction_ffm\",header=None)\n",
        "log_loss(ytest,soft),roc_auc_score(ytest,soft)"
      ],
      "execution_count": 0,
      "outputs": []
    },
    {
      "cell_type": "markdown",
      "metadata": {
        "collapsed": true,
        "id": "11CnCwGiwR30",
        "colab_type": "text"
      },
      "source": [
        "# Blending"
      ]
    },
    {
      "cell_type": "markdown",
      "metadata": {
        "id": "mR0aa6wDwR30",
        "colab_type": "text"
      },
      "source": [
        "<font color=\"red\">\n",
        "Séparer les données de train Xtrain en deux avec train_test_split.</font>"
      ]
    },
    {
      "cell_type": "code",
      "metadata": {
        "id": "3ZYzZ7j0wR30",
        "colab_type": "code",
        "colab": {}
      },
      "source": [
        "Xtrain_meth, Xtrain_blend, ytrain_meth, ytrain_blend = train_test_split(Xtrain,ytrain,test_size=0.2)"
      ],
      "execution_count": 0,
      "outputs": []
    },
    {
      "cell_type": "markdown",
      "metadata": {
        "collapsed": true,
        "id": "w4m0q4mhwR33",
        "colab_type": "text"
      },
      "source": [
        "<font color=\"red\">\n",
        "Entrainer une régression logistique sur Xtrain_meth, et évaluer ses scores sur Xtrain_blend (conserver dans un vecteur).</font>"
      ]
    },
    {
      "cell_type": "code",
      "metadata": {
        "id": "e0au9ZESwR33",
        "colab_type": "code",
        "colab": {}
      },
      "source": [
        ""
      ],
      "execution_count": 0,
      "outputs": []
    },
    {
      "cell_type": "markdown",
      "metadata": {
        "id": "vNpMJioJwR34",
        "colab_type": "text"
      },
      "source": [
        "<font color=\"red\">\n",
        "Entrainer un xgboost sur Xtrain_meth, et évaluer ses scores sur Xtrain_blend (conserver dans un vecteur).</font>"
      ]
    },
    {
      "cell_type": "code",
      "metadata": {
        "id": "Voroxj2awR34",
        "colab_type": "code",
        "colab": {}
      },
      "source": [
        ""
      ],
      "execution_count": 0,
      "outputs": []
    },
    {
      "cell_type": "markdown",
      "metadata": {
        "id": "gomuifKwwR36",
        "colab_type": "text"
      },
      "source": [
        "<font color=\"red\">\n",
        "Entrainer un random forest sur Xtrain_meth, et évaluer ses scores sur Xtrain_blend (conserver dans un vecteur).</font>"
      ]
    },
    {
      "cell_type": "code",
      "metadata": {
        "id": "1r6Hp-4HwR37",
        "colab_type": "code",
        "colab": {}
      },
      "source": [
        ""
      ],
      "execution_count": 0,
      "outputs": []
    },
    {
      "cell_type": "markdown",
      "metadata": {
        "id": "2a-_CjaTwR39",
        "colab_type": "text"
      },
      "source": [
        "<font color=\"red\">\n",
        "Entrainer un extraTrees sur Xtrain_meth, et évaluer ses scores sur Xtrain_blend (conserver dans un vecteur).</font>"
      ]
    },
    {
      "cell_type": "code",
      "metadata": {
        "id": "i1mNP_RswR39",
        "colab_type": "code",
        "colab": {}
      },
      "source": [
        ""
      ],
      "execution_count": 0,
      "outputs": []
    },
    {
      "cell_type": "markdown",
      "metadata": {
        "id": "cqUXcnuvwR3_",
        "colab_type": "text"
      },
      "source": [
        "<font color=\"red\">\n",
        "Entrainer un FFM sur Xtrain_meth, et évaluer ses scores sur Xtrain_blend (conserver dans un vecteur).</font>"
      ]
    },
    {
      "cell_type": "code",
      "metadata": {
        "id": "5UAyeNJgwR4A",
        "colab_type": "code",
        "colab": {}
      },
      "source": [
        ""
      ],
      "execution_count": 0,
      "outputs": []
    },
    {
      "cell_type": "markdown",
      "metadata": {
        "id": "mq0ipVhqwR4C",
        "colab_type": "text"
      },
      "source": [
        "<font color=\"red\">\n",
        "Concaténer tous les scores obtenus sur Xtrain_blend pour former une même matrice de design Zblend.</font>"
      ]
    },
    {
      "cell_type": "code",
      "metadata": {
        "id": "wR8JuAhmwR4C",
        "colab_type": "code",
        "colab": {}
      },
      "source": [
        ""
      ],
      "execution_count": 0,
      "outputs": []
    },
    {
      "cell_type": "markdown",
      "metadata": {
        "id": "sTv7p3HvwR4D",
        "colab_type": "text"
      },
      "source": [
        "<font color=\"red\">\n",
        "Entrainer une régression logistique sur (Zblend,ytrain_blend).</font>"
      ]
    },
    {
      "cell_type": "code",
      "metadata": {
        "id": "_WQ1clcVwR4E",
        "colab_type": "code",
        "colab": {}
      },
      "source": [
        ""
      ],
      "execution_count": 0,
      "outputs": []
    },
    {
      "cell_type": "markdown",
      "metadata": {
        "id": "_67dKPEGwR4F",
        "colab_type": "text"
      },
      "source": [
        "<font color=\"red\">\n",
        "Evaluer les performances de la méthode sur la base de test.</font>"
      ]
    },
    {
      "cell_type": "code",
      "metadata": {
        "id": "MLpuJiO3wR4F",
        "colab_type": "code",
        "colab": {}
      },
      "source": [
        ""
      ],
      "execution_count": 0,
      "outputs": []
    }
  ]
}
